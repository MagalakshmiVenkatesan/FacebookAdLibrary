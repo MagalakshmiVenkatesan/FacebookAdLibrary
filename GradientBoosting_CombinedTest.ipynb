{
 "cells": [
  {
   "cell_type": "code",
   "execution_count": 1,
   "metadata": {},
   "outputs": [],
   "source": [
    "from sklearn.ensemble import GradientBoostingRegressor\n",
    "from sklearn.model_selection import GridSearchCV"
   ]
  },
  {
   "cell_type": "code",
   "execution_count": 2,
   "metadata": {},
   "outputs": [],
   "source": [
    "from sklearn.model_selection import train_test_split\n",
    "from sklearn.metrics import mean_squared_error\n",
    "from sklearn.metrics import mean_absolute_error\n"
   ]
  },
  {
   "cell_type": "code",
   "execution_count": 3,
   "metadata": {},
   "outputs": [],
   "source": [
    "import pandas as pd\n",
    "import numpy as np\n",
    "import seaborn as sns"
   ]
  },
  {
   "cell_type": "code",
   "execution_count": 4,
   "metadata": {},
   "outputs": [
    {
     "data": {
      "text/html": [
       "<div>\n",
       "<style scoped>\n",
       "    .dataframe tbody tr th:only-of-type {\n",
       "        vertical-align: middle;\n",
       "    }\n",
       "\n",
       "    .dataframe tbody tr th {\n",
       "        vertical-align: top;\n",
       "    }\n",
       "\n",
       "    .dataframe thead th {\n",
       "        text-align: right;\n",
       "    }\n",
       "</style>\n",
       "<table border=\"1\" class=\"dataframe\">\n",
       "  <thead>\n",
       "    <tr style=\"text-align: right;\">\n",
       "      <th></th>\n",
       "      <th>Problem Influence percentage</th>\n",
       "      <th>Total Impressions</th>\n",
       "      <th>Total Amount</th>\n",
       "      <th>Votes</th>\n",
       "    </tr>\n",
       "  </thead>\n",
       "  <tbody>\n",
       "    <tr>\n",
       "      <th>0</th>\n",
       "      <td>13.5</td>\n",
       "      <td>135000.0</td>\n",
       "      <td>249.5</td>\n",
       "      <td>535022.425</td>\n",
       "    </tr>\n",
       "    <tr>\n",
       "      <th>1</th>\n",
       "      <td>100.0</td>\n",
       "      <td>1500000.0</td>\n",
       "      <td>599.0</td>\n",
       "      <td>535022.425</td>\n",
       "    </tr>\n",
       "    <tr>\n",
       "      <th>2</th>\n",
       "      <td>90.0</td>\n",
       "      <td>900000.0</td>\n",
       "      <td>599.0</td>\n",
       "      <td>535022.425</td>\n",
       "    </tr>\n",
       "    <tr>\n",
       "      <th>3</th>\n",
       "      <td>30.0</td>\n",
       "      <td>300000.0</td>\n",
       "      <td>249.5</td>\n",
       "      <td>535022.425</td>\n",
       "    </tr>\n",
       "    <tr>\n",
       "      <th>4</th>\n",
       "      <td>30.0</td>\n",
       "      <td>300000.0</td>\n",
       "      <td>100.0</td>\n",
       "      <td>535022.425</td>\n",
       "    </tr>\n",
       "  </tbody>\n",
       "</table>\n",
       "</div>"
      ],
      "text/plain": [
       "   Problem Influence percentage  Total Impressions  Total Amount       Votes\n",
       "0                          13.5           135000.0         249.5  535022.425\n",
       "1                         100.0          1500000.0         599.0  535022.425\n",
       "2                          90.0           900000.0         599.0  535022.425\n",
       "3                          30.0           300000.0         249.5  535022.425\n",
       "4                          30.0           300000.0         100.0  535022.425"
      ]
     },
     "execution_count": 4,
     "metadata": {},
     "output_type": "execute_result"
    }
   ],
   "source": [
    "# Combined Test \n",
    "\n",
    "data = pd.read_excel('D:/NUIG/Final Project/FinalData/combinedTest.xlsx')\n",
    "\n",
    "data.head(5)"
   ]
  },
  {
   "cell_type": "code",
   "execution_count": 5,
   "metadata": {
    "scrolled": true
   },
   "outputs": [
    {
     "name": "stdout",
     "output_type": "stream",
     "text": [
      "   Problem Influence percentage  Total Impressions  Total Amount\n",
      "0                          13.5           135000.0         249.5\n",
      "1                         100.0          1500000.0         599.0\n",
      "2                          90.0           900000.0         599.0\n",
      "3                          30.0           300000.0         249.5\n",
      "4                          30.0           300000.0         100.0\n"
     ]
    },
    {
     "data": {
      "text/html": [
       "<div>\n",
       "<style scoped>\n",
       "    .dataframe tbody tr th:only-of-type {\n",
       "        vertical-align: middle;\n",
       "    }\n",
       "\n",
       "    .dataframe tbody tr th {\n",
       "        vertical-align: top;\n",
       "    }\n",
       "\n",
       "    .dataframe thead th {\n",
       "        text-align: right;\n",
       "    }\n",
       "</style>\n",
       "<table border=\"1\" class=\"dataframe\">\n",
       "  <thead>\n",
       "    <tr style=\"text-align: right;\">\n",
       "      <th></th>\n",
       "      <th>Votes</th>\n",
       "    </tr>\n",
       "  </thead>\n",
       "  <tbody>\n",
       "    <tr>\n",
       "      <th>0</th>\n",
       "      <td>535022.425</td>\n",
       "    </tr>\n",
       "    <tr>\n",
       "      <th>1</th>\n",
       "      <td>535022.425</td>\n",
       "    </tr>\n",
       "    <tr>\n",
       "      <th>2</th>\n",
       "      <td>535022.425</td>\n",
       "    </tr>\n",
       "    <tr>\n",
       "      <th>3</th>\n",
       "      <td>535022.425</td>\n",
       "    </tr>\n",
       "    <tr>\n",
       "      <th>4</th>\n",
       "      <td>535022.425</td>\n",
       "    </tr>\n",
       "  </tbody>\n",
       "</table>\n",
       "</div>"
      ],
      "text/plain": [
       "        Votes\n",
       "0  535022.425\n",
       "1  535022.425\n",
       "2  535022.425\n",
       "3  535022.425\n",
       "4  535022.425"
      ]
     },
     "execution_count": 5,
     "metadata": {},
     "output_type": "execute_result"
    }
   ],
   "source": [
    "# dependent and independent variables\n",
    "\n",
    "iv = data.iloc[:, 0:3]\n",
    "print(iv.head(5))\n",
    "\n",
    "dv = data.iloc[:, -1:]\n",
    "dv.head(5)"
   ]
  },
  {
   "cell_type": "code",
   "execution_count": 6,
   "metadata": {},
   "outputs": [],
   "source": [
    "# split train , test data \n",
    "\n",
    "X_train, X_test, y_train, y_test = train_test_split(iv, dv)"
   ]
  },
  {
   "cell_type": "code",
   "execution_count": 7,
   "metadata": {},
   "outputs": [],
   "source": [
    "# Gradient Boosting Regressor using parameters with best accuracy\n",
    "\n",
    "base_model_GB = GradientBoostingRegressor(\n",
    "    max_depth=3,\n",
    "    n_estimators=100,\n",
    "    learning_rate=0.1\n",
    ")"
   ]
  },
  {
   "cell_type": "code",
   "execution_count": 8,
   "metadata": {},
   "outputs": [
    {
     "name": "stderr",
     "output_type": "stream",
     "text": [
      "D:\\Anaconda_Install\\lib\\site-packages\\sklearn\\ensemble\\_gb.py:1454: DataConversionWarning: A column-vector y was passed when a 1d array was expected. Please change the shape of y to (n_samples, ), for example using ravel().\n",
      "  y = column_or_1d(y, warn=True)\n"
     ]
    },
    {
     "data": {
      "text/plain": [
       "GradientBoostingRegressor(alpha=0.9, ccp_alpha=0.0, criterion='friedman_mse',\n",
       "                          init=None, learning_rate=0.1, loss='ls', max_depth=3,\n",
       "                          max_features=None, max_leaf_nodes=None,\n",
       "                          min_impurity_decrease=0.0, min_impurity_split=None,\n",
       "                          min_samples_leaf=1, min_samples_split=2,\n",
       "                          min_weight_fraction_leaf=0.0, n_estimators=100,\n",
       "                          n_iter_no_change=None, presort='deprecated',\n",
       "                          random_state=None, subsample=1.0, tol=0.0001,\n",
       "                          validation_fraction=0.1, verbose=0, warm_start=False)"
      ]
     },
     "execution_count": 8,
     "metadata": {},
     "output_type": "execute_result"
    }
   ],
   "source": [
    "base_model_GB.fit(X_train, y_train)"
   ]
  },
  {
   "cell_type": "code",
   "execution_count": 9,
   "metadata": {},
   "outputs": [
    {
     "name": "stdout",
     "output_type": "stream",
     "text": [
      "Mean Absolute Error:50112.01\n"
     ]
    }
   ],
   "source": [
    "# Base model Error calculation\n",
    "\n",
    "y_pred = base_model_GB.predict(X_test)\n",
    "MAE_calc = mean_absolute_error(y_test, y_pred)\n",
    "\n",
    "MAE = round(MAE_calc,2)\n",
    "\n",
    "print('Mean Absolute Error:'+ str(MAE))\n",
    "\n",
    "\n"
   ]
  },
  {
   "cell_type": "code",
   "execution_count": 10,
   "metadata": {},
   "outputs": [
    {
     "name": "stdout",
     "output_type": "stream",
     "text": [
      "Base Accuracy:72.0\n"
     ]
    }
   ],
   "source": [
    "# Base Model Accuracy\n",
    "\n",
    "Accuracy_calc = base_model_GB.score(X_train, y_train)\n",
    "Base_Accuracy_GB = round(Accuracy_calc, 2)*100\n",
    "\n",
    "print('Base Accuracy:' + str(Base_Accuracy_GB))"
   ]
  },
  {
   "cell_type": "code",
   "execution_count": 11,
   "metadata": {},
   "outputs": [],
   "source": [
    "# Model Building function\n",
    "\n",
    "def train_GB(est, max_depth, lr):\n",
    "    \n",
    "    gb = GradientBoostingRegressor(n_estimators=est, max_depth=max_depth, learning_rate=lr)\n",
    "    gb_model = gb.fit(X_train, y_train)\n",
    "    y_pred = gb_model.predict(X_test)\n",
    "    Acc = (gb.score(X_train, y_train))\n",
    "    return (round(Acc,2)*100), est , max_depth , lr\n",
    "   \n",
    "    "
   ]
  },
  {
   "cell_type": "code",
   "execution_count": 12,
   "metadata": {},
   "outputs": [
    {
     "name": "stderr",
     "output_type": "stream",
     "text": [
      "D:\\Anaconda_Install\\lib\\site-packages\\sklearn\\ensemble\\_gb.py:1454: DataConversionWarning: A column-vector y was passed when a 1d array was expected. Please change the shape of y to (n_samples, ), for example using ravel().\n",
      "  y = column_or_1d(y, warn=True)\n",
      "D:\\Anaconda_Install\\lib\\site-packages\\sklearn\\ensemble\\_gb.py:1454: DataConversionWarning: A column-vector y was passed when a 1d array was expected. Please change the shape of y to (n_samples, ), for example using ravel().\n",
      "  y = column_or_1d(y, warn=True)\n",
      "D:\\Anaconda_Install\\lib\\site-packages\\sklearn\\ensemble\\_gb.py:1454: DataConversionWarning: A column-vector y was passed when a 1d array was expected. Please change the shape of y to (n_samples, ), for example using ravel().\n",
      "  y = column_or_1d(y, warn=True)\n",
      "D:\\Anaconda_Install\\lib\\site-packages\\sklearn\\ensemble\\_gb.py:1454: DataConversionWarning: A column-vector y was passed when a 1d array was expected. Please change the shape of y to (n_samples, ), for example using ravel().\n",
      "  y = column_or_1d(y, warn=True)\n",
      "D:\\Anaconda_Install\\lib\\site-packages\\sklearn\\ensemble\\_gb.py:1454: DataConversionWarning: A column-vector y was passed when a 1d array was expected. Please change the shape of y to (n_samples, ), for example using ravel().\n",
      "  y = column_or_1d(y, warn=True)\n",
      "D:\\Anaconda_Install\\lib\\site-packages\\sklearn\\ensemble\\_gb.py:1454: DataConversionWarning: A column-vector y was passed when a 1d array was expected. Please change the shape of y to (n_samples, ), for example using ravel().\n",
      "  y = column_or_1d(y, warn=True)\n",
      "D:\\Anaconda_Install\\lib\\site-packages\\sklearn\\ensemble\\_gb.py:1454: DataConversionWarning: A column-vector y was passed when a 1d array was expected. Please change the shape of y to (n_samples, ), for example using ravel().\n",
      "  y = column_or_1d(y, warn=True)\n",
      "D:\\Anaconda_Install\\lib\\site-packages\\sklearn\\ensemble\\_gb.py:1454: DataConversionWarning: A column-vector y was passed when a 1d array was expected. Please change the shape of y to (n_samples, ), for example using ravel().\n",
      "  y = column_or_1d(y, warn=True)\n"
     ]
    },
    {
     "name": "stdout",
     "output_type": "stream",
     "text": [
      "(27.0, 50, 3, 0.01)\n",
      "(63.0, 50, 3, 0.1)\n",
      "(87.0, 50, 3, 1)\n",
      "(45.0, 50, 7, 0.01)\n",
      "(88.0, 50, 7, 0.1)\n",
      "(92.0, 50, 7, 1)\n",
      "(55.00000000000001, 50, 11, 0.01)\n",
      "(92.0, 50, 11, 0.1)\n",
      "(92.0, 50, 11, 1)\n",
      "(57.99999999999999, 50, 15, 0.01)\n",
      "(92.0, 50, 15, 0.1)\n",
      "(92.0, 50, 15, 1)\n",
      "(38.0, 100, 3, 0.01)\n"
     ]
    },
    {
     "name": "stderr",
     "output_type": "stream",
     "text": [
      "D:\\Anaconda_Install\\lib\\site-packages\\sklearn\\ensemble\\_gb.py:1454: DataConversionWarning: A column-vector y was passed when a 1d array was expected. Please change the shape of y to (n_samples, ), for example using ravel().\n",
      "  y = column_or_1d(y, warn=True)\n",
      "D:\\Anaconda_Install\\lib\\site-packages\\sklearn\\ensemble\\_gb.py:1454: DataConversionWarning: A column-vector y was passed when a 1d array was expected. Please change the shape of y to (n_samples, ), for example using ravel().\n",
      "  y = column_or_1d(y, warn=True)\n",
      "D:\\Anaconda_Install\\lib\\site-packages\\sklearn\\ensemble\\_gb.py:1454: DataConversionWarning: A column-vector y was passed when a 1d array was expected. Please change the shape of y to (n_samples, ), for example using ravel().\n",
      "  y = column_or_1d(y, warn=True)\n",
      "D:\\Anaconda_Install\\lib\\site-packages\\sklearn\\ensemble\\_gb.py:1454: DataConversionWarning: A column-vector y was passed when a 1d array was expected. Please change the shape of y to (n_samples, ), for example using ravel().\n",
      "  y = column_or_1d(y, warn=True)\n",
      "D:\\Anaconda_Install\\lib\\site-packages\\sklearn\\ensemble\\_gb.py:1454: DataConversionWarning: A column-vector y was passed when a 1d array was expected. Please change the shape of y to (n_samples, ), for example using ravel().\n",
      "  y = column_or_1d(y, warn=True)\n",
      "D:\\Anaconda_Install\\lib\\site-packages\\sklearn\\ensemble\\_gb.py:1454: DataConversionWarning: A column-vector y was passed when a 1d array was expected. Please change the shape of y to (n_samples, ), for example using ravel().\n",
      "  y = column_or_1d(y, warn=True)\n"
     ]
    },
    {
     "name": "stdout",
     "output_type": "stream",
     "text": [
      "(72.0, 100, 3, 0.1)\n",
      "(90.0, 100, 3, 1)\n",
      "(64.0, 100, 7, 0.01)\n",
      "(91.0, 100, 7, 0.1)\n"
     ]
    },
    {
     "name": "stderr",
     "output_type": "stream",
     "text": [
      "D:\\Anaconda_Install\\lib\\site-packages\\sklearn\\ensemble\\_gb.py:1454: DataConversionWarning: A column-vector y was passed when a 1d array was expected. Please change the shape of y to (n_samples, ), for example using ravel().\n",
      "  y = column_or_1d(y, warn=True)\n",
      "D:\\Anaconda_Install\\lib\\site-packages\\sklearn\\ensemble\\_gb.py:1454: DataConversionWarning: A column-vector y was passed when a 1d array was expected. Please change the shape of y to (n_samples, ), for example using ravel().\n",
      "  y = column_or_1d(y, warn=True)\n",
      "D:\\Anaconda_Install\\lib\\site-packages\\sklearn\\ensemble\\_gb.py:1454: DataConversionWarning: A column-vector y was passed when a 1d array was expected. Please change the shape of y to (n_samples, ), for example using ravel().\n",
      "  y = column_or_1d(y, warn=True)\n",
      "D:\\Anaconda_Install\\lib\\site-packages\\sklearn\\ensemble\\_gb.py:1454: DataConversionWarning: A column-vector y was passed when a 1d array was expected. Please change the shape of y to (n_samples, ), for example using ravel().\n",
      "  y = column_or_1d(y, warn=True)\n"
     ]
    },
    {
     "name": "stdout",
     "output_type": "stream",
     "text": [
      "(92.0, 100, 7, 1)\n",
      "(76.0, 100, 11, 0.01)\n",
      "(92.0, 100, 11, 0.1)\n"
     ]
    },
    {
     "name": "stderr",
     "output_type": "stream",
     "text": [
      "D:\\Anaconda_Install\\lib\\site-packages\\sklearn\\ensemble\\_gb.py:1454: DataConversionWarning: A column-vector y was passed when a 1d array was expected. Please change the shape of y to (n_samples, ), for example using ravel().\n",
      "  y = column_or_1d(y, warn=True)\n",
      "D:\\Anaconda_Install\\lib\\site-packages\\sklearn\\ensemble\\_gb.py:1454: DataConversionWarning: A column-vector y was passed when a 1d array was expected. Please change the shape of y to (n_samples, ), for example using ravel().\n",
      "  y = column_or_1d(y, warn=True)\n",
      "D:\\Anaconda_Install\\lib\\site-packages\\sklearn\\ensemble\\_gb.py:1454: DataConversionWarning: A column-vector y was passed when a 1d array was expected. Please change the shape of y to (n_samples, ), for example using ravel().\n",
      "  y = column_or_1d(y, warn=True)\n"
     ]
    },
    {
     "name": "stdout",
     "output_type": "stream",
     "text": [
      "(92.0, 100, 11, 1)\n",
      "(79.0, 100, 15, 0.01)\n",
      "(92.0, 100, 15, 0.1)\n"
     ]
    },
    {
     "name": "stderr",
     "output_type": "stream",
     "text": [
      "D:\\Anaconda_Install\\lib\\site-packages\\sklearn\\ensemble\\_gb.py:1454: DataConversionWarning: A column-vector y was passed when a 1d array was expected. Please change the shape of y to (n_samples, ), for example using ravel().\n",
      "  y = column_or_1d(y, warn=True)\n",
      "D:\\Anaconda_Install\\lib\\site-packages\\sklearn\\ensemble\\_gb.py:1454: DataConversionWarning: A column-vector y was passed when a 1d array was expected. Please change the shape of y to (n_samples, ), for example using ravel().\n",
      "  y = column_or_1d(y, warn=True)\n",
      "D:\\Anaconda_Install\\lib\\site-packages\\sklearn\\ensemble\\_gb.py:1454: DataConversionWarning: A column-vector y was passed when a 1d array was expected. Please change the shape of y to (n_samples, ), for example using ravel().\n",
      "  y = column_or_1d(y, warn=True)\n"
     ]
    },
    {
     "name": "stdout",
     "output_type": "stream",
     "text": [
      "(92.0, 100, 15, 1)\n",
      "(45.0, 150, 3, 0.01)\n",
      "(76.0, 150, 3, 0.1)\n",
      "(91.0, 150, 3, 1)\n"
     ]
    },
    {
     "name": "stderr",
     "output_type": "stream",
     "text": [
      "D:\\Anaconda_Install\\lib\\site-packages\\sklearn\\ensemble\\_gb.py:1454: DataConversionWarning: A column-vector y was passed when a 1d array was expected. Please change the shape of y to (n_samples, ), for example using ravel().\n",
      "  y = column_or_1d(y, warn=True)\n",
      "D:\\Anaconda_Install\\lib\\site-packages\\sklearn\\ensemble\\_gb.py:1454: DataConversionWarning: A column-vector y was passed when a 1d array was expected. Please change the shape of y to (n_samples, ), for example using ravel().\n",
      "  y = column_or_1d(y, warn=True)\n",
      "D:\\Anaconda_Install\\lib\\site-packages\\sklearn\\ensemble\\_gb.py:1454: DataConversionWarning: A column-vector y was passed when a 1d array was expected. Please change the shape of y to (n_samples, ), for example using ravel().\n",
      "  y = column_or_1d(y, warn=True)\n",
      "D:\\Anaconda_Install\\lib\\site-packages\\sklearn\\ensemble\\_gb.py:1454: DataConversionWarning: A column-vector y was passed when a 1d array was expected. Please change the shape of y to (n_samples, ), for example using ravel().\n",
      "  y = column_or_1d(y, warn=True)\n"
     ]
    },
    {
     "name": "stdout",
     "output_type": "stream",
     "text": [
      "(74.0, 150, 7, 0.01)\n",
      "(92.0, 150, 7, 0.1)\n",
      "(92.0, 150, 7, 1)\n"
     ]
    },
    {
     "name": "stderr",
     "output_type": "stream",
     "text": [
      "D:\\Anaconda_Install\\lib\\site-packages\\sklearn\\ensemble\\_gb.py:1454: DataConversionWarning: A column-vector y was passed when a 1d array was expected. Please change the shape of y to (n_samples, ), for example using ravel().\n",
      "  y = column_or_1d(y, warn=True)\n",
      "D:\\Anaconda_Install\\lib\\site-packages\\sklearn\\ensemble\\_gb.py:1454: DataConversionWarning: A column-vector y was passed when a 1d array was expected. Please change the shape of y to (n_samples, ), for example using ravel().\n",
      "  y = column_or_1d(y, warn=True)\n",
      "D:\\Anaconda_Install\\lib\\site-packages\\sklearn\\ensemble\\_gb.py:1454: DataConversionWarning: A column-vector y was passed when a 1d array was expected. Please change the shape of y to (n_samples, ), for example using ravel().\n",
      "  y = column_or_1d(y, warn=True)\n"
     ]
    },
    {
     "name": "stdout",
     "output_type": "stream",
     "text": [
      "(84.0, 150, 11, 0.01)\n",
      "(92.0, 150, 11, 0.1)\n"
     ]
    },
    {
     "name": "stderr",
     "output_type": "stream",
     "text": [
      "D:\\Anaconda_Install\\lib\\site-packages\\sklearn\\ensemble\\_gb.py:1454: DataConversionWarning: A column-vector y was passed when a 1d array was expected. Please change the shape of y to (n_samples, ), for example using ravel().\n",
      "  y = column_or_1d(y, warn=True)\n",
      "D:\\Anaconda_Install\\lib\\site-packages\\sklearn\\ensemble\\_gb.py:1454: DataConversionWarning: A column-vector y was passed when a 1d array was expected. Please change the shape of y to (n_samples, ), for example using ravel().\n",
      "  y = column_or_1d(y, warn=True)\n"
     ]
    },
    {
     "name": "stdout",
     "output_type": "stream",
     "text": [
      "(92.0, 150, 11, 1)\n",
      "(87.0, 150, 15, 0.01)\n",
      "(92.0, 150, 15, 0.1)\n"
     ]
    },
    {
     "name": "stderr",
     "output_type": "stream",
     "text": [
      "D:\\Anaconda_Install\\lib\\site-packages\\sklearn\\ensemble\\_gb.py:1454: DataConversionWarning: A column-vector y was passed when a 1d array was expected. Please change the shape of y to (n_samples, ), for example using ravel().\n",
      "  y = column_or_1d(y, warn=True)\n",
      "D:\\Anaconda_Install\\lib\\site-packages\\sklearn\\ensemble\\_gb.py:1454: DataConversionWarning: A column-vector y was passed when a 1d array was expected. Please change the shape of y to (n_samples, ), for example using ravel().\n",
      "  y = column_or_1d(y, warn=True)\n",
      "D:\\Anaconda_Install\\lib\\site-packages\\sklearn\\ensemble\\_gb.py:1454: DataConversionWarning: A column-vector y was passed when a 1d array was expected. Please change the shape of y to (n_samples, ), for example using ravel().\n",
      "  y = column_or_1d(y, warn=True)\n"
     ]
    },
    {
     "name": "stdout",
     "output_type": "stream",
     "text": [
      "(92.0, 150, 15, 1)\n"
     ]
    }
   ],
   "source": [
    "# Parameter Tuning \n",
    "\n",
    "for n_est in [50, 100, 150]:\n",
    "    for max_depth in [3, 7, 11, 15]:\n",
    "        for lr in [0.01, 0.1, 1]:\n",
    "            print(train_GB(n_est, max_depth, lr))\n"
   ]
  },
  {
   "cell_type": "code",
   "execution_count": 23,
   "metadata": {
    "scrolled": true
   },
   "outputs": [
    {
     "name": "stderr",
     "output_type": "stream",
     "text": [
      "D:\\Anaconda_Install\\lib\\site-packages\\sklearn\\ensemble\\_gb.py:1454: DataConversionWarning: A column-vector y was passed when a 1d array was expected. Please change the shape of y to (n_samples, ), for example using ravel().\n",
      "  y = column_or_1d(y, warn=True)\n"
     ]
    },
    {
     "data": {
      "text/html": [
       "<div>\n",
       "<style scoped>\n",
       "    .dataframe tbody tr th:only-of-type {\n",
       "        vertical-align: middle;\n",
       "    }\n",
       "\n",
       "    .dataframe tbody tr th {\n",
       "        vertical-align: top;\n",
       "    }\n",
       "\n",
       "    .dataframe thead th {\n",
       "        text-align: right;\n",
       "    }\n",
       "</style>\n",
       "<table border=\"1\" class=\"dataframe\">\n",
       "  <thead>\n",
       "    <tr style=\"text-align: right;\">\n",
       "      <th></th>\n",
       "      <th>mean_fit_time</th>\n",
       "      <th>std_fit_time</th>\n",
       "      <th>mean_score_time</th>\n",
       "      <th>std_score_time</th>\n",
       "      <th>param_learning_rate</th>\n",
       "      <th>param_max_depth</th>\n",
       "      <th>param_n_estimators</th>\n",
       "      <th>params</th>\n",
       "      <th>split0_test_score</th>\n",
       "      <th>split1_test_score</th>\n",
       "      <th>split2_test_score</th>\n",
       "      <th>split3_test_score</th>\n",
       "      <th>split4_test_score</th>\n",
       "      <th>mean_test_score</th>\n",
       "      <th>std_test_score</th>\n",
       "      <th>rank_test_score</th>\n",
       "    </tr>\n",
       "  </thead>\n",
       "  <tbody>\n",
       "    <tr>\n",
       "      <th>0</th>\n",
       "      <td>0.100764</td>\n",
       "      <td>0.017165</td>\n",
       "      <td>0.007413</td>\n",
       "      <td>0.002487</td>\n",
       "      <td>0.1</td>\n",
       "      <td>7</td>\n",
       "      <td>50</td>\n",
       "      <td>{'learning_rate': 0.1, 'max_depth': 7, 'n_esti...</td>\n",
       "      <td>0.178718</td>\n",
       "      <td>0.515943</td>\n",
       "      <td>0.241668</td>\n",
       "      <td>-0.160654</td>\n",
       "      <td>0.104450</td>\n",
       "      <td>0.176025</td>\n",
       "      <td>0.218328</td>\n",
       "      <td>1</td>\n",
       "    </tr>\n",
       "    <tr>\n",
       "      <th>1</th>\n",
       "      <td>0.195373</td>\n",
       "      <td>0.013328</td>\n",
       "      <td>0.006210</td>\n",
       "      <td>0.000653</td>\n",
       "      <td>0.1</td>\n",
       "      <td>7</td>\n",
       "      <td>100</td>\n",
       "      <td>{'learning_rate': 0.1, 'max_depth': 7, 'n_esti...</td>\n",
       "      <td>0.117653</td>\n",
       "      <td>0.507701</td>\n",
       "      <td>0.209807</td>\n",
       "      <td>-0.205364</td>\n",
       "      <td>0.074293</td>\n",
       "      <td>0.140818</td>\n",
       "      <td>0.229855</td>\n",
       "      <td>2</td>\n",
       "    </tr>\n",
       "    <tr>\n",
       "      <th>2</th>\n",
       "      <td>0.264967</td>\n",
       "      <td>0.039885</td>\n",
       "      <td>0.006450</td>\n",
       "      <td>0.001353</td>\n",
       "      <td>0.1</td>\n",
       "      <td>7</td>\n",
       "      <td>150</td>\n",
       "      <td>{'learning_rate': 0.1, 'max_depth': 7, 'n_esti...</td>\n",
       "      <td>0.108594</td>\n",
       "      <td>0.476333</td>\n",
       "      <td>0.184501</td>\n",
       "      <td>-0.222463</td>\n",
       "      <td>0.065739</td>\n",
       "      <td>0.122541</td>\n",
       "      <td>0.224257</td>\n",
       "      <td>3</td>\n",
       "    </tr>\n",
       "    <tr>\n",
       "      <th>3</th>\n",
       "      <td>0.124299</td>\n",
       "      <td>0.032462</td>\n",
       "      <td>0.014207</td>\n",
       "      <td>0.010358</td>\n",
       "      <td>0.1</td>\n",
       "      <td>11</td>\n",
       "      <td>50</td>\n",
       "      <td>{'learning_rate': 0.1, 'max_depth': 11, 'n_est...</td>\n",
       "      <td>-0.024856</td>\n",
       "      <td>0.425887</td>\n",
       "      <td>0.018408</td>\n",
       "      <td>-0.207019</td>\n",
       "      <td>0.014491</td>\n",
       "      <td>0.045382</td>\n",
       "      <td>0.207415</td>\n",
       "      <td>4</td>\n",
       "    </tr>\n",
       "    <tr>\n",
       "      <th>5</th>\n",
       "      <td>0.341423</td>\n",
       "      <td>0.044191</td>\n",
       "      <td>0.011460</td>\n",
       "      <td>0.003891</td>\n",
       "      <td>0.1</td>\n",
       "      <td>11</td>\n",
       "      <td>150</td>\n",
       "      <td>{'learning_rate': 0.1, 'max_depth': 11, 'n_est...</td>\n",
       "      <td>-0.028090</td>\n",
       "      <td>0.427835</td>\n",
       "      <td>-0.013211</td>\n",
       "      <td>-0.256020</td>\n",
       "      <td>0.000690</td>\n",
       "      <td>0.026241</td>\n",
       "      <td>0.221860</td>\n",
       "      <td>5</td>\n",
       "    </tr>\n",
       "    <tr>\n",
       "      <th>4</th>\n",
       "      <td>0.214557</td>\n",
       "      <td>0.031514</td>\n",
       "      <td>0.005427</td>\n",
       "      <td>0.000435</td>\n",
       "      <td>0.1</td>\n",
       "      <td>11</td>\n",
       "      <td>100</td>\n",
       "      <td>{'learning_rate': 0.1, 'max_depth': 11, 'n_est...</td>\n",
       "      <td>-0.041364</td>\n",
       "      <td>0.442651</td>\n",
       "      <td>-0.002222</td>\n",
       "      <td>-0.283048</td>\n",
       "      <td>0.001948</td>\n",
       "      <td>0.023593</td>\n",
       "      <td>0.234518</td>\n",
       "      <td>6</td>\n",
       "    </tr>\n",
       "    <tr>\n",
       "      <th>6</th>\n",
       "      <td>0.105116</td>\n",
       "      <td>0.010465</td>\n",
       "      <td>0.006034</td>\n",
       "      <td>0.000762</td>\n",
       "      <td>0.1</td>\n",
       "      <td>15</td>\n",
       "      <td>50</td>\n",
       "      <td>{'learning_rate': 0.1, 'max_depth': 15, 'n_est...</td>\n",
       "      <td>-0.098971</td>\n",
       "      <td>0.415628</td>\n",
       "      <td>0.003484</td>\n",
       "      <td>-0.359391</td>\n",
       "      <td>-0.036760</td>\n",
       "      <td>-0.015202</td>\n",
       "      <td>0.249764</td>\n",
       "      <td>7</td>\n",
       "    </tr>\n",
       "    <tr>\n",
       "      <th>8</th>\n",
       "      <td>0.310596</td>\n",
       "      <td>0.027168</td>\n",
       "      <td>0.006285</td>\n",
       "      <td>0.000779</td>\n",
       "      <td>0.1</td>\n",
       "      <td>15</td>\n",
       "      <td>150</td>\n",
       "      <td>{'learning_rate': 0.1, 'max_depth': 15, 'n_est...</td>\n",
       "      <td>-0.101187</td>\n",
       "      <td>0.438659</td>\n",
       "      <td>0.001241</td>\n",
       "      <td>-0.379256</td>\n",
       "      <td>-0.041748</td>\n",
       "      <td>-0.016458</td>\n",
       "      <td>0.263395</td>\n",
       "      <td>8</td>\n",
       "    </tr>\n",
       "    <tr>\n",
       "      <th>7</th>\n",
       "      <td>0.235830</td>\n",
       "      <td>0.015374</td>\n",
       "      <td>0.007485</td>\n",
       "      <td>0.001084</td>\n",
       "      <td>0.1</td>\n",
       "      <td>15</td>\n",
       "      <td>100</td>\n",
       "      <td>{'learning_rate': 0.1, 'max_depth': 15, 'n_est...</td>\n",
       "      <td>-0.109424</td>\n",
       "      <td>0.404839</td>\n",
       "      <td>-0.008543</td>\n",
       "      <td>-0.337394</td>\n",
       "      <td>-0.032705</td>\n",
       "      <td>-0.016645</td>\n",
       "      <td>0.240608</td>\n",
       "      <td>9</td>\n",
       "    </tr>\n",
       "  </tbody>\n",
       "</table>\n",
       "</div>"
      ],
      "text/plain": [
       "   mean_fit_time  std_fit_time  mean_score_time  std_score_time  \\\n",
       "0       0.100764      0.017165         0.007413        0.002487   \n",
       "1       0.195373      0.013328         0.006210        0.000653   \n",
       "2       0.264967      0.039885         0.006450        0.001353   \n",
       "3       0.124299      0.032462         0.014207        0.010358   \n",
       "5       0.341423      0.044191         0.011460        0.003891   \n",
       "4       0.214557      0.031514         0.005427        0.000435   \n",
       "6       0.105116      0.010465         0.006034        0.000762   \n",
       "8       0.310596      0.027168         0.006285        0.000779   \n",
       "7       0.235830      0.015374         0.007485        0.001084   \n",
       "\n",
       "  param_learning_rate param_max_depth param_n_estimators  \\\n",
       "0                 0.1               7                 50   \n",
       "1                 0.1               7                100   \n",
       "2                 0.1               7                150   \n",
       "3                 0.1              11                 50   \n",
       "5                 0.1              11                150   \n",
       "4                 0.1              11                100   \n",
       "6                 0.1              15                 50   \n",
       "8                 0.1              15                150   \n",
       "7                 0.1              15                100   \n",
       "\n",
       "                                              params  split0_test_score  \\\n",
       "0  {'learning_rate': 0.1, 'max_depth': 7, 'n_esti...           0.178718   \n",
       "1  {'learning_rate': 0.1, 'max_depth': 7, 'n_esti...           0.117653   \n",
       "2  {'learning_rate': 0.1, 'max_depth': 7, 'n_esti...           0.108594   \n",
       "3  {'learning_rate': 0.1, 'max_depth': 11, 'n_est...          -0.024856   \n",
       "5  {'learning_rate': 0.1, 'max_depth': 11, 'n_est...          -0.028090   \n",
       "4  {'learning_rate': 0.1, 'max_depth': 11, 'n_est...          -0.041364   \n",
       "6  {'learning_rate': 0.1, 'max_depth': 15, 'n_est...          -0.098971   \n",
       "8  {'learning_rate': 0.1, 'max_depth': 15, 'n_est...          -0.101187   \n",
       "7  {'learning_rate': 0.1, 'max_depth': 15, 'n_est...          -0.109424   \n",
       "\n",
       "   split1_test_score  split2_test_score  split3_test_score  split4_test_score  \\\n",
       "0           0.515943           0.241668          -0.160654           0.104450   \n",
       "1           0.507701           0.209807          -0.205364           0.074293   \n",
       "2           0.476333           0.184501          -0.222463           0.065739   \n",
       "3           0.425887           0.018408          -0.207019           0.014491   \n",
       "5           0.427835          -0.013211          -0.256020           0.000690   \n",
       "4           0.442651          -0.002222          -0.283048           0.001948   \n",
       "6           0.415628           0.003484          -0.359391          -0.036760   \n",
       "8           0.438659           0.001241          -0.379256          -0.041748   \n",
       "7           0.404839          -0.008543          -0.337394          -0.032705   \n",
       "\n",
       "   mean_test_score  std_test_score  rank_test_score  \n",
       "0         0.176025        0.218328                1  \n",
       "1         0.140818        0.229855                2  \n",
       "2         0.122541        0.224257                3  \n",
       "3         0.045382        0.207415                4  \n",
       "5         0.026241        0.221860                5  \n",
       "4         0.023593        0.234518                6  \n",
       "6        -0.015202        0.249764                7  \n",
       "8        -0.016458        0.263395                8  \n",
       "7        -0.016645        0.240608                9  "
      ]
     },
     "execution_count": 23,
     "metadata": {},
     "output_type": "execute_result"
    }
   ],
   "source": [
    "#GridSearchCV\n",
    "\n",
    "gb = GradientBoostingRegressor()\n",
    "param = {\n",
    "    'n_estimators': [50, 100, 150], \n",
    "    'max_depth': [7, 11, 15],\n",
    "    'learning_rate': [0.1]\n",
    "}\n",
    "\n",
    "clf = GridSearchCV(gb, param, cv=5, n_jobs=-1)\n",
    "cv_fit = clf.fit(X_train, y_train)\n",
    "pd.DataFrame(cv_fit.cv_results_).sort_values('mean_test_score', ascending=False)\n"
   ]
  },
  {
   "cell_type": "code",
   "execution_count": 17,
   "metadata": {},
   "outputs": [],
   "source": [
    "#final model with best parameters\n",
    "\n",
    "final_model_GB = GradientBoostingRegressor(\n",
    "    max_depth=7,\n",
    "    n_estimators=50,\n",
    "    learning_rate=0.1\n",
    ")"
   ]
  },
  {
   "cell_type": "code",
   "execution_count": 18,
   "metadata": {},
   "outputs": [
    {
     "name": "stderr",
     "output_type": "stream",
     "text": [
      "D:\\Anaconda_Install\\lib\\site-packages\\sklearn\\ensemble\\_gb.py:1454: DataConversionWarning: A column-vector y was passed when a 1d array was expected. Please change the shape of y to (n_samples, ), for example using ravel().\n",
      "  y = column_or_1d(y, warn=True)\n"
     ]
    },
    {
     "data": {
      "text/plain": [
       "GradientBoostingRegressor(alpha=0.9, ccp_alpha=0.0, criterion='friedman_mse',\n",
       "                          init=None, learning_rate=0.1, loss='ls', max_depth=7,\n",
       "                          max_features=None, max_leaf_nodes=None,\n",
       "                          min_impurity_decrease=0.0, min_impurity_split=None,\n",
       "                          min_samples_leaf=1, min_samples_split=2,\n",
       "                          min_weight_fraction_leaf=0.0, n_estimators=50,\n",
       "                          n_iter_no_change=None, presort='deprecated',\n",
       "                          random_state=None, subsample=1.0, tol=0.0001,\n",
       "                          validation_fraction=0.1, verbose=0, warm_start=False)"
      ]
     },
     "execution_count": 18,
     "metadata": {},
     "output_type": "execute_result"
    }
   ],
   "source": [
    "final_model_GB.fit(X_train, y_train)"
   ]
  },
  {
   "cell_type": "code",
   "execution_count": 19,
   "metadata": {},
   "outputs": [
    {
     "name": "stdout",
     "output_type": "stream",
     "text": [
      "Mean Absolute Error:47745.06\n"
     ]
    }
   ],
   "source": [
    "# Final model Error calculation\n",
    "\n",
    "y_pred = final_model_GB.predict(X_test)\n",
    "MAE_calc = mean_absolute_error(y_test, y_pred)\n",
    "\n",
    "MAE = round(MAE_calc,2)\n",
    "\n",
    "print('Mean Absolute Error:'+ str(MAE))\n",
    "\n"
   ]
  },
  {
   "cell_type": "code",
   "execution_count": 20,
   "metadata": {},
   "outputs": [
    {
     "name": "stdout",
     "output_type": "stream",
     "text": [
      "Final Accuracy:88.0\n"
     ]
    }
   ],
   "source": [
    "# Final Model Accuracy\n",
    "\n",
    "Accuracy_calc = final_model_GB.score(X_train, y_train)\n",
    "Final_Accuracy_GB = round(Accuracy_calc, 2)*100\n",
    "\n",
    "print('Final Accuracy:' + str(Final_Accuracy_GB))"
   ]
  },
  {
   "cell_type": "code",
   "execution_count": 21,
   "metadata": {},
   "outputs": [
    {
     "name": "stdout",
     "output_type": "stream",
     "text": [
      "Improvement of 22.22%.\n"
     ]
    }
   ],
   "source": [
    "print('Improvement of {:0.2f}%.'.format(100*(Final_Accuracy_GB-Base_Accuracy_GB)/Base_Accuracy_GB))"
   ]
  },
  {
   "cell_type": "code",
   "execution_count": 22,
   "metadata": {},
   "outputs": [
    {
     "data": {
      "image/png": "[encoded data removed]",
      "text/plain": [
       "<Figure size 432x288 with 1 Axes>"
      ]
     },
     "metadata": {
      "needs_background": "light"
     },
     "output_type": "display_data"
    }
   ],
   "source": [
    "ax1 = sns.distplot(y_test, hist=False, color='r', label='actual')\n",
    "sns_plot = sns.distplot(y_pred, hist=False, color='b',label='prediction', ax=ax1)\n"
   ]
  }
 ],
 "metadata": {
  "kernelspec": {
   "display_name": "Python 3",
   "language": "python",
   "name": "python3"
  },
  "language_info": {
   "codemirror_mode": {
    "name": "ipython",
    "version": 3
   },
   "file_extension": ".py",
   "mimetype": "text/x-python",
   "name": "python",
   "nbconvert_exporter": "python",
   "pygments_lexer": "ipython3",
   "version": "3.7.6"
  }
 },
 "nbformat": 4,
 "nbformat_minor": 4
}
