{
 "cells": [
  {
   "cell_type": "code",
   "execution_count": 89,
   "metadata": {},
   "outputs": [],
   "source": [
    "from sklearn.ensemble import GradientBoostingRegressor"
   ]
  },
  {
   "cell_type": "code",
   "execution_count": 90,
   "metadata": {},
   "outputs": [],
   "source": [
    "from sklearn.model_selection import train_test_split\n",
    "from sklearn.metrics import mean_squared_error\n",
    "from sklearn.metrics import mean_absolute_error"
   ]
  },
  {
   "cell_type": "code",
   "execution_count": 91,
   "metadata": {},
   "outputs": [],
   "source": [
    "import pandas as pd\n",
    "import numpy as np"
   ]
  },
  {
   "cell_type": "markdown",
   "metadata": {},
   "source": [
    "# Fianna Fail"
   ]
  },
  {
   "cell_type": "code",
   "execution_count": 92,
   "metadata": {},
   "outputs": [
    {
     "data": {
      "text/html": [
       "<div>\n",
       "<style scoped>\n",
       "    .dataframe tbody tr th:only-of-type {\n",
       "        vertical-align: middle;\n",
       "    }\n",
       "\n",
       "    .dataframe tbody tr th {\n",
       "        vertical-align: top;\n",
       "    }\n",
       "\n",
       "    .dataframe thead th {\n",
       "        text-align: right;\n",
       "    }\n",
       "</style>\n",
       "<table border=\"1\" class=\"dataframe\">\n",
       "  <thead>\n",
       "    <tr style=\"text-align: right;\">\n",
       "      <th></th>\n",
       "      <th>ID</th>\n",
       "      <th>Description</th>\n",
       "      <th>Problem Sector</th>\n",
       "      <th>Problem Influence Percentage</th>\n",
       "      <th>Period</th>\n",
       "      <th>StartDate</th>\n",
       "      <th>EndDate</th>\n",
       "      <th>Duration in Days</th>\n",
       "      <th>AmountSpent</th>\n",
       "      <th>MinAmount</th>\n",
       "      <th>MaxAmount</th>\n",
       "      <th>AvgAmount</th>\n",
       "      <th>Impressions</th>\n",
       "      <th>MinImpressions</th>\n",
       "      <th>MaxImpressions</th>\n",
       "      <th>AvgImpressions</th>\n",
       "      <th>Disclaimer</th>\n",
       "      <th>Party</th>\n",
       "      <th>OpinionPollDate</th>\n",
       "      <th>Votes</th>\n",
       "    </tr>\n",
       "  </thead>\n",
       "  <tbody>\n",
       "    <tr>\n",
       "      <th>0</th>\n",
       "      <td>175238543909027</td>\n",
       "      <td>Keep in touch with everything that’s happening...</td>\n",
       "      <td>General</td>\n",
       "      <td>30.000000</td>\n",
       "      <td>25 May 2020-4 Jun 2020</td>\n",
       "      <td>2020-05-25</td>\n",
       "      <td>2020-06-04</td>\n",
       "      <td>10</td>\n",
       "      <td>€200-€299</td>\n",
       "      <td>200.0</td>\n",
       "      <td>299.0</td>\n",
       "      <td>249.50</td>\n",
       "      <td>100K-500K people</td>\n",
       "      <td>100000</td>\n",
       "      <td>500000</td>\n",
       "      <td>300000</td>\n",
       "      <td>Sponsored • Paid for by Fianna Fáil</td>\n",
       "      <td>Fianna Fáil</td>\n",
       "      <td>2020-02-08</td>\n",
       "      <td>484795.83</td>\n",
       "    </tr>\n",
       "    <tr>\n",
       "      <th>1</th>\n",
       "      <td>447706465995203</td>\n",
       "      <td>\"A lot of peope see Europe as distant, but I w...</td>\n",
       "      <td>Childcare</td>\n",
       "      <td>34.615385</td>\n",
       "      <td>15 May 2019-24 May 2019</td>\n",
       "      <td>2019-05-15</td>\n",
       "      <td>2019-05-24</td>\n",
       "      <td>9</td>\n",
       "      <td>€500-€599</td>\n",
       "      <td>500.0</td>\n",
       "      <td>599.0</td>\n",
       "      <td>549.50</td>\n",
       "      <td>200K-250K</td>\n",
       "      <td>200000</td>\n",
       "      <td>250000</td>\n",
       "      <td>225000</td>\n",
       "      <td>If you look at the issues of,</td>\n",
       "      <td>Fianna Fáil</td>\n",
       "      <td>2019-05-16</td>\n",
       "      <td>524103.60</td>\n",
       "    </tr>\n",
       "    <tr>\n",
       "      <th>2</th>\n",
       "      <td>822161288247517</td>\n",
       "      <td>Under Fine Gael more than 215,000 children are...</td>\n",
       "      <td>Insurance</td>\n",
       "      <td>100.000000</td>\n",
       "      <td>28 Jan 2020-6 Feb 2020</td>\n",
       "      <td>2020-01-28</td>\n",
       "      <td>2020-02-06</td>\n",
       "      <td>9</td>\n",
       "      <td>€2K-€2.5K</td>\n",
       "      <td>2000.0</td>\n",
       "      <td>2500.0</td>\n",
       "      <td>2250.00</td>\n",
       "      <td>200K-250K</td>\n",
       "      <td>200000</td>\n",
       "      <td>250000</td>\n",
       "      <td>225000</td>\n",
       "      <td>Sponsored • Paid for by Fianna Fáil</td>\n",
       "      <td>Fianna Fáil</td>\n",
       "      <td>2020-01-30</td>\n",
       "      <td>524103.60</td>\n",
       "    </tr>\n",
       "    <tr>\n",
       "      <th>3</th>\n",
       "      <td>2450342161880712</td>\n",
       "      <td>Do we want to keep going as we are? Or do we t...</td>\n",
       "      <td>Development</td>\n",
       "      <td>100.000000</td>\n",
       "      <td>20 Jan 2020-2 Feb 2020</td>\n",
       "      <td>2020-01-20</td>\n",
       "      <td>2020-02-02</td>\n",
       "      <td>13</td>\n",
       "      <td>€3.5K-€4K</td>\n",
       "      <td>3.5</td>\n",
       "      <td>4000.0</td>\n",
       "      <td>2001.75</td>\n",
       "      <td>600K-700K</td>\n",
       "      <td>600000</td>\n",
       "      <td>700000</td>\n",
       "      <td>650000</td>\n",
       "      <td>Fianna Fáil has the plans, people and commitme...</td>\n",
       "      <td>Fianna Fáil</td>\n",
       "      <td>2020-01-18</td>\n",
       "      <td>545941.25</td>\n",
       "    </tr>\n",
       "    <tr>\n",
       "      <th>4</th>\n",
       "      <td>578322799679886</td>\n",
       "      <td>Tugann an toghchán seo deis dúinn rogha a dhéa...</td>\n",
       "      <td>General</td>\n",
       "      <td>22.500000</td>\n",
       "      <td>21 Jan 2020-2 Feb 2020</td>\n",
       "      <td>2020-01-21</td>\n",
       "      <td>2020-02-02</td>\n",
       "      <td>12</td>\n",
       "      <td>€1K-€1.5K</td>\n",
       "      <td>1000.0</td>\n",
       "      <td>1500.0</td>\n",
       "      <td>1250.00</td>\n",
       "      <td>200K-250K</td>\n",
       "      <td>200000</td>\n",
       "      <td>250000</td>\n",
       "      <td>225000</td>\n",
       "      <td>NaN</td>\n",
       "      <td>Fianna Fáil</td>\n",
       "      <td>2020-01-18</td>\n",
       "      <td>545941.25</td>\n",
       "    </tr>\n",
       "  </tbody>\n",
       "</table>\n",
       "</div>"
      ],
      "text/plain": [
       "                 ID                                        Description  \\\n",
       "0   175238543909027  Keep in touch with everything that’s happening...   \n",
       "1   447706465995203  \"A lot of peope see Europe as distant, but I w...   \n",
       "2   822161288247517  Under Fine Gael more than 215,000 children are...   \n",
       "3  2450342161880712  Do we want to keep going as we are? Or do we t...   \n",
       "4   578322799679886  Tugann an toghchán seo deis dúinn rogha a dhéa...   \n",
       "\n",
       "  Problem Sector  Problem Influence Percentage                   Period  \\\n",
       "0        General                     30.000000   25 May 2020-4 Jun 2020   \n",
       "1      Childcare                     34.615385  15 May 2019-24 May 2019   \n",
       "2      Insurance                    100.000000   28 Jan 2020-6 Feb 2020   \n",
       "3    Development                    100.000000   20 Jan 2020-2 Feb 2020   \n",
       "4        General                     22.500000   21 Jan 2020-2 Feb 2020   \n",
       "\n",
       "   StartDate    EndDate  Duration in Days AmountSpent  MinAmount  MaxAmount  \\\n",
       "0 2020-05-25 2020-06-04                10   €200-€299      200.0      299.0   \n",
       "1 2019-05-15 2019-05-24                 9   €500-€599      500.0      599.0   \n",
       "2 2020-01-28 2020-02-06                 9   €2K-€2.5K     2000.0     2500.0   \n",
       "3 2020-01-20 2020-02-02                13   €3.5K-€4K        3.5     4000.0   \n",
       "4 2020-01-21 2020-02-02                12   €1K-€1.5K     1000.0     1500.0   \n",
       "\n",
       "   AvgAmount       Impressions  MinImpressions  MaxImpressions  \\\n",
       "0     249.50  100K-500K people          100000          500000   \n",
       "1     549.50         200K-250K          200000          250000   \n",
       "2    2250.00         200K-250K          200000          250000   \n",
       "3    2001.75         600K-700K          600000          700000   \n",
       "4    1250.00         200K-250K          200000          250000   \n",
       "\n",
       "   AvgImpressions                                         Disclaimer  \\\n",
       "0          300000                Sponsored • Paid for by Fianna Fáil   \n",
       "1          225000                      If you look at the issues of,   \n",
       "2          225000                Sponsored • Paid for by Fianna Fáil   \n",
       "3          650000  Fianna Fáil has the plans, people and commitme...   \n",
       "4          225000                                                NaN   \n",
       "\n",
       "         Party OpinionPollDate      Votes  \n",
       "0  Fianna Fáil      2020-02-08  484795.83  \n",
       "1  Fianna Fáil      2019-05-16  524103.60  \n",
       "2  Fianna Fáil      2020-01-30  524103.60  \n",
       "3  Fianna Fáil      2020-01-18  545941.25  \n",
       "4  Fianna Fáil      2020-01-18  545941.25  "
      ]
     },
     "execution_count": 92,
     "metadata": {},
     "output_type": "execute_result"
    }
   ],
   "source": [
    "data_FF = pd.read_excel('D:/NUIG/Final Project/FinalData/FiannaFail_Final.xlsx')\n",
    "\n",
    "data_FF.head(5)"
   ]
  },
  {
   "cell_type": "code",
   "execution_count": 93,
   "metadata": {},
   "outputs": [
    {
     "data": {
      "text/html": [
       "<div>\n",
       "<style scoped>\n",
       "    .dataframe tbody tr th:only-of-type {\n",
       "        vertical-align: middle;\n",
       "    }\n",
       "\n",
       "    .dataframe tbody tr th {\n",
       "        vertical-align: top;\n",
       "    }\n",
       "\n",
       "    .dataframe thead th {\n",
       "        text-align: right;\n",
       "    }\n",
       "</style>\n",
       "<table border=\"1\" class=\"dataframe\">\n",
       "  <thead>\n",
       "    <tr style=\"text-align: right;\">\n",
       "      <th></th>\n",
       "      <th>Problem Influence Percentage</th>\n",
       "      <th>AvgAmount</th>\n",
       "      <th>AvgImpressions</th>\n",
       "      <th>Duration in Days</th>\n",
       "      <th>Votes</th>\n",
       "    </tr>\n",
       "  </thead>\n",
       "  <tbody>\n",
       "    <tr>\n",
       "      <th>0</th>\n",
       "      <td>30.000000</td>\n",
       "      <td>249.50</td>\n",
       "      <td>300000</td>\n",
       "      <td>10</td>\n",
       "      <td>484795.83</td>\n",
       "    </tr>\n",
       "    <tr>\n",
       "      <th>1</th>\n",
       "      <td>34.615385</td>\n",
       "      <td>549.50</td>\n",
       "      <td>225000</td>\n",
       "      <td>9</td>\n",
       "      <td>524103.60</td>\n",
       "    </tr>\n",
       "    <tr>\n",
       "      <th>2</th>\n",
       "      <td>100.000000</td>\n",
       "      <td>2250.00</td>\n",
       "      <td>225000</td>\n",
       "      <td>9</td>\n",
       "      <td>524103.60</td>\n",
       "    </tr>\n",
       "    <tr>\n",
       "      <th>3</th>\n",
       "      <td>100.000000</td>\n",
       "      <td>2001.75</td>\n",
       "      <td>650000</td>\n",
       "      <td>13</td>\n",
       "      <td>545941.25</td>\n",
       "    </tr>\n",
       "    <tr>\n",
       "      <th>4</th>\n",
       "      <td>22.500000</td>\n",
       "      <td>1250.00</td>\n",
       "      <td>225000</td>\n",
       "      <td>12</td>\n",
       "      <td>545941.25</td>\n",
       "    </tr>\n",
       "  </tbody>\n",
       "</table>\n",
       "</div>"
      ],
      "text/plain": [
       "   Problem Influence Percentage  AvgAmount  AvgImpressions  Duration in Days  \\\n",
       "0                     30.000000     249.50          300000                10   \n",
       "1                     34.615385     549.50          225000                 9   \n",
       "2                    100.000000    2250.00          225000                 9   \n",
       "3                    100.000000    2001.75          650000                13   \n",
       "4                     22.500000    1250.00          225000                12   \n",
       "\n",
       "       Votes  \n",
       "0  484795.83  \n",
       "1  524103.60  \n",
       "2  524103.60  \n",
       "3  545941.25  \n",
       "4  545941.25  "
      ]
     },
     "execution_count": 93,
     "metadata": {},
     "output_type": "execute_result"
    }
   ],
   "source": [
    "#data subset \n",
    "\n",
    "s_data = data_FF[['Problem Influence Percentage', 'AvgAmount', 'AvgImpressions', 'Duration in Days','Votes']]\n",
    "\n",
    "s_data.head(5)"
   ]
  },
  {
   "cell_type": "code",
   "execution_count": 94,
   "metadata": {},
   "outputs": [
    {
     "data": {
      "text/html": [
       "<div>\n",
       "<style scoped>\n",
       "    .dataframe tbody tr th:only-of-type {\n",
       "        vertical-align: middle;\n",
       "    }\n",
       "\n",
       "    .dataframe tbody tr th {\n",
       "        vertical-align: top;\n",
       "    }\n",
       "\n",
       "    .dataframe thead th {\n",
       "        text-align: right;\n",
       "    }\n",
       "</style>\n",
       "<table border=\"1\" class=\"dataframe\">\n",
       "  <thead>\n",
       "    <tr style=\"text-align: right;\">\n",
       "      <th></th>\n",
       "      <th>Votes</th>\n",
       "    </tr>\n",
       "  </thead>\n",
       "  <tbody>\n",
       "    <tr>\n",
       "      <th>0</th>\n",
       "      <td>484795.83</td>\n",
       "    </tr>\n",
       "    <tr>\n",
       "      <th>1</th>\n",
       "      <td>524103.60</td>\n",
       "    </tr>\n",
       "    <tr>\n",
       "      <th>2</th>\n",
       "      <td>524103.60</td>\n",
       "    </tr>\n",
       "    <tr>\n",
       "      <th>3</th>\n",
       "      <td>545941.25</td>\n",
       "    </tr>\n",
       "    <tr>\n",
       "      <th>4</th>\n",
       "      <td>545941.25</td>\n",
       "    </tr>\n",
       "  </tbody>\n",
       "</table>\n",
       "</div>"
      ],
      "text/plain": [
       "       Votes\n",
       "0  484795.83\n",
       "1  524103.60\n",
       "2  524103.60\n",
       "3  545941.25\n",
       "4  545941.25"
      ]
     },
     "execution_count": 94,
     "metadata": {},
     "output_type": "execute_result"
    }
   ],
   "source": [
    "# dependent and independent variables\n",
    "\n",
    "iv = s_data.iloc[:, 0:4]\n",
    "iv.head(5)\n",
    "\n",
    "dv = s_data.iloc[:, -1:]\n",
    "dv.head(5)"
   ]
  },
  {
   "cell_type": "code",
   "execution_count": 95,
   "metadata": {},
   "outputs": [],
   "source": [
    "# split train , test data \n",
    "\n",
    "X_train, X_test, y_train, y_test = train_test_split(iv, dv)"
   ]
  },
  {
   "cell_type": "code",
   "execution_count": 96,
   "metadata": {},
   "outputs": [],
   "source": [
    "# Model building\n",
    "\n",
    "def train_GB(est, max_depth, lr):\n",
    "    \n",
    "    gb = GradientBoostingRegressor(n_estimators=est, max_depth=max_depth, learning_rate=lr)\n",
    "    gb_model = gb.fit(X_train, y_train)\n",
    "    y_pred = gb_model.predict(X_test)\n",
    "    Acc = (gb.score(X_train, y_train))\n",
    "    return (round(Acc,2)*100), est , max_depth , lr"
   ]
  },
  {
   "cell_type": "code",
   "execution_count": 97,
   "metadata": {},
   "outputs": [
    {
     "name": "stderr",
     "output_type": "stream",
     "text": [
      "D:\\Anaconda_Install\\lib\\site-packages\\sklearn\\ensemble\\_gb.py:1454: DataConversionWarning: A column-vector y was passed when a 1d array was expected. Please change the shape of y to (n_samples, ), for example using ravel().\n",
      "  y = column_or_1d(y, warn=True)\n",
      "D:\\Anaconda_Install\\lib\\site-packages\\sklearn\\ensemble\\_gb.py:1454: DataConversionWarning: A column-vector y was passed when a 1d array was expected. Please change the shape of y to (n_samples, ), for example using ravel().\n",
      "  y = column_or_1d(y, warn=True)\n",
      "D:\\Anaconda_Install\\lib\\site-packages\\sklearn\\ensemble\\_gb.py:1454: DataConversionWarning: A column-vector y was passed when a 1d array was expected. Please change the shape of y to (n_samples, ), for example using ravel().\n",
      "  y = column_or_1d(y, warn=True)\n",
      "D:\\Anaconda_Install\\lib\\site-packages\\sklearn\\ensemble\\_gb.py:1454: DataConversionWarning: A column-vector y was passed when a 1d array was expected. Please change the shape of y to (n_samples, ), for example using ravel().\n",
      "  y = column_or_1d(y, warn=True)\n",
      "D:\\Anaconda_Install\\lib\\site-packages\\sklearn\\ensemble\\_gb.py:1454: DataConversionWarning: A column-vector y was passed when a 1d array was expected. Please change the shape of y to (n_samples, ), for example using ravel().\n",
      "  y = column_or_1d(y, warn=True)\n"
     ]
    },
    {
     "name": "stdout",
     "output_type": "stream",
     "text": [
      "(26.0, 50, 3, 0.01)\n",
      "(77.0, 50, 3, 0.1)\n",
      "(99.0, 50, 3, 1)\n",
      "(52.0, 50, 7, 0.01)\n",
      "(99.0, 50, 7, 0.1)\n",
      "(99.0, 50, 7, 1)\n",
      "(62.0, 50, 11, 0.01)\n"
     ]
    },
    {
     "name": "stderr",
     "output_type": "stream",
     "text": [
      "D:\\Anaconda_Install\\lib\\site-packages\\sklearn\\ensemble\\_gb.py:1454: DataConversionWarning: A column-vector y was passed when a 1d array was expected. Please change the shape of y to (n_samples, ), for example using ravel().\n",
      "  y = column_or_1d(y, warn=True)\n",
      "D:\\Anaconda_Install\\lib\\site-packages\\sklearn\\ensemble\\_gb.py:1454: DataConversionWarning: A column-vector y was passed when a 1d array was expected. Please change the shape of y to (n_samples, ), for example using ravel().\n",
      "  y = column_or_1d(y, warn=True)\n",
      "D:\\Anaconda_Install\\lib\\site-packages\\sklearn\\ensemble\\_gb.py:1454: DataConversionWarning: A column-vector y was passed when a 1d array was expected. Please change the shape of y to (n_samples, ), for example using ravel().\n",
      "  y = column_or_1d(y, warn=True)\n"
     ]
    },
    {
     "name": "stdout",
     "output_type": "stream",
     "text": [
      "(99.0, 50, 11, 0.1)\n",
      "(99.0, 50, 11, 1)\n",
      "(63.0, 50, 15, 0.01)\n",
      "(99.0, 50, 15, 0.1)\n"
     ]
    },
    {
     "name": "stderr",
     "output_type": "stream",
     "text": [
      "D:\\Anaconda_Install\\lib\\site-packages\\sklearn\\ensemble\\_gb.py:1454: DataConversionWarning: A column-vector y was passed when a 1d array was expected. Please change the shape of y to (n_samples, ), for example using ravel().\n",
      "  y = column_or_1d(y, warn=True)\n",
      "D:\\Anaconda_Install\\lib\\site-packages\\sklearn\\ensemble\\_gb.py:1454: DataConversionWarning: A column-vector y was passed when a 1d array was expected. Please change the shape of y to (n_samples, ), for example using ravel().\n",
      "  y = column_or_1d(y, warn=True)\n",
      "D:\\Anaconda_Install\\lib\\site-packages\\sklearn\\ensemble\\_gb.py:1454: DataConversionWarning: A column-vector y was passed when a 1d array was expected. Please change the shape of y to (n_samples, ), for example using ravel().\n",
      "  y = column_or_1d(y, warn=True)\n"
     ]
    },
    {
     "name": "stdout",
     "output_type": "stream",
     "text": [
      "(99.0, 50, 15, 1)\n",
      "(39.0, 100, 3, 0.01)\n",
      "(87.0, 100, 3, 0.1)\n"
     ]
    },
    {
     "name": "stderr",
     "output_type": "stream",
     "text": [
      "D:\\Anaconda_Install\\lib\\site-packages\\sklearn\\ensemble\\_gb.py:1454: DataConversionWarning: A column-vector y was passed when a 1d array was expected. Please change the shape of y to (n_samples, ), for example using ravel().\n",
      "  y = column_or_1d(y, warn=True)\n",
      "D:\\Anaconda_Install\\lib\\site-packages\\sklearn\\ensemble\\_gb.py:1454: DataConversionWarning: A column-vector y was passed when a 1d array was expected. Please change the shape of y to (n_samples, ), for example using ravel().\n",
      "  y = column_or_1d(y, warn=True)\n",
      "D:\\Anaconda_Install\\lib\\site-packages\\sklearn\\ensemble\\_gb.py:1454: DataConversionWarning: A column-vector y was passed when a 1d array was expected. Please change the shape of y to (n_samples, ), for example using ravel().\n",
      "  y = column_or_1d(y, warn=True)\n",
      "D:\\Anaconda_Install\\lib\\site-packages\\sklearn\\ensemble\\_gb.py:1454: DataConversionWarning: A column-vector y was passed when a 1d array was expected. Please change the shape of y to (n_samples, ), for example using ravel().\n",
      "  y = column_or_1d(y, warn=True)\n"
     ]
    },
    {
     "name": "stdout",
     "output_type": "stream",
     "text": [
      "(99.0, 100, 3, 1)\n",
      "(74.0, 100, 7, 0.01)\n"
     ]
    },
    {
     "name": "stderr",
     "output_type": "stream",
     "text": [
      "D:\\Anaconda_Install\\lib\\site-packages\\sklearn\\ensemble\\_gb.py:1454: DataConversionWarning: A column-vector y was passed when a 1d array was expected. Please change the shape of y to (n_samples, ), for example using ravel().\n",
      "  y = column_or_1d(y, warn=True)\n",
      "D:\\Anaconda_Install\\lib\\site-packages\\sklearn\\ensemble\\_gb.py:1454: DataConversionWarning: A column-vector y was passed when a 1d array was expected. Please change the shape of y to (n_samples, ), for example using ravel().\n",
      "  y = column_or_1d(y, warn=True)\n"
     ]
    },
    {
     "name": "stdout",
     "output_type": "stream",
     "text": [
      "(99.0, 100, 7, 0.1)\n",
      "(99.0, 100, 7, 1)\n"
     ]
    },
    {
     "name": "stderr",
     "output_type": "stream",
     "text": [
      "D:\\Anaconda_Install\\lib\\site-packages\\sklearn\\ensemble\\_gb.py:1454: DataConversionWarning: A column-vector y was passed when a 1d array was expected. Please change the shape of y to (n_samples, ), for example using ravel().\n",
      "  y = column_or_1d(y, warn=True)\n",
      "D:\\Anaconda_Install\\lib\\site-packages\\sklearn\\ensemble\\_gb.py:1454: DataConversionWarning: A column-vector y was passed when a 1d array was expected. Please change the shape of y to (n_samples, ), for example using ravel().\n",
      "  y = column_or_1d(y, warn=True)\n"
     ]
    },
    {
     "name": "stdout",
     "output_type": "stream",
     "text": [
      "(85.0, 100, 11, 0.01)\n",
      "(99.0, 100, 11, 0.1)\n",
      "(99.0, 100, 11, 1)\n"
     ]
    },
    {
     "name": "stderr",
     "output_type": "stream",
     "text": [
      "D:\\Anaconda_Install\\lib\\site-packages\\sklearn\\ensemble\\_gb.py:1454: DataConversionWarning: A column-vector y was passed when a 1d array was expected. Please change the shape of y to (n_samples, ), for example using ravel().\n",
      "  y = column_or_1d(y, warn=True)\n",
      "D:\\Anaconda_Install\\lib\\site-packages\\sklearn\\ensemble\\_gb.py:1454: DataConversionWarning: A column-vector y was passed when a 1d array was expected. Please change the shape of y to (n_samples, ), for example using ravel().\n",
      "  y = column_or_1d(y, warn=True)\n",
      "D:\\Anaconda_Install\\lib\\site-packages\\sklearn\\ensemble\\_gb.py:1454: DataConversionWarning: A column-vector y was passed when a 1d array was expected. Please change the shape of y to (n_samples, ), for example using ravel().\n",
      "  y = column_or_1d(y, warn=True)\n"
     ]
    },
    {
     "name": "stdout",
     "output_type": "stream",
     "text": [
      "(86.0, 100, 15, 0.01)\n",
      "(99.0, 100, 15, 0.1)\n",
      "(99.0, 100, 15, 1)\n"
     ]
    },
    {
     "name": "stderr",
     "output_type": "stream",
     "text": [
      "D:\\Anaconda_Install\\lib\\site-packages\\sklearn\\ensemble\\_gb.py:1454: DataConversionWarning: A column-vector y was passed when a 1d array was expected. Please change the shape of y to (n_samples, ), for example using ravel().\n",
      "  y = column_or_1d(y, warn=True)\n",
      "D:\\Anaconda_Install\\lib\\site-packages\\sklearn\\ensemble\\_gb.py:1454: DataConversionWarning: A column-vector y was passed when a 1d array was expected. Please change the shape of y to (n_samples, ), for example using ravel().\n",
      "  y = column_or_1d(y, warn=True)\n",
      "D:\\Anaconda_Install\\lib\\site-packages\\sklearn\\ensemble\\_gb.py:1454: DataConversionWarning: A column-vector y was passed when a 1d array was expected. Please change the shape of y to (n_samples, ), for example using ravel().\n",
      "  y = column_or_1d(y, warn=True)\n"
     ]
    },
    {
     "name": "stdout",
     "output_type": "stream",
     "text": [
      "(48.0, 150, 3, 0.01)\n",
      "(92.0, 150, 3, 0.1)\n"
     ]
    },
    {
     "name": "stderr",
     "output_type": "stream",
     "text": [
      "D:\\Anaconda_Install\\lib\\site-packages\\sklearn\\ensemble\\_gb.py:1454: DataConversionWarning: A column-vector y was passed when a 1d array was expected. Please change the shape of y to (n_samples, ), for example using ravel().\n",
      "  y = column_or_1d(y, warn=True)\n",
      "D:\\Anaconda_Install\\lib\\site-packages\\sklearn\\ensemble\\_gb.py:1454: DataConversionWarning: A column-vector y was passed when a 1d array was expected. Please change the shape of y to (n_samples, ), for example using ravel().\n",
      "  y = column_or_1d(y, warn=True)\n"
     ]
    },
    {
     "name": "stdout",
     "output_type": "stream",
     "text": [
      "(99.0, 150, 3, 1)\n",
      "(88.0, 150, 7, 0.01)\n"
     ]
    },
    {
     "name": "stderr",
     "output_type": "stream",
     "text": [
      "D:\\Anaconda_Install\\lib\\site-packages\\sklearn\\ensemble\\_gb.py:1454: DataConversionWarning: A column-vector y was passed when a 1d array was expected. Please change the shape of y to (n_samples, ), for example using ravel().\n",
      "  y = column_or_1d(y, warn=True)\n",
      "D:\\Anaconda_Install\\lib\\site-packages\\sklearn\\ensemble\\_gb.py:1454: DataConversionWarning: A column-vector y was passed when a 1d array was expected. Please change the shape of y to (n_samples, ), for example using ravel().\n",
      "  y = column_or_1d(y, warn=True)\n"
     ]
    },
    {
     "name": "stdout",
     "output_type": "stream",
     "text": [
      "(99.0, 150, 7, 0.1)\n",
      "(99.0, 150, 7, 1)\n"
     ]
    },
    {
     "name": "stderr",
     "output_type": "stream",
     "text": [
      "D:\\Anaconda_Install\\lib\\site-packages\\sklearn\\ensemble\\_gb.py:1454: DataConversionWarning: A column-vector y was passed when a 1d array was expected. Please change the shape of y to (n_samples, ), for example using ravel().\n",
      "  y = column_or_1d(y, warn=True)\n",
      "D:\\Anaconda_Install\\lib\\site-packages\\sklearn\\ensemble\\_gb.py:1454: DataConversionWarning: A column-vector y was passed when a 1d array was expected. Please change the shape of y to (n_samples, ), for example using ravel().\n",
      "  y = column_or_1d(y, warn=True)\n"
     ]
    },
    {
     "name": "stdout",
     "output_type": "stream",
     "text": [
      "(94.0, 150, 11, 0.01)\n",
      "(99.0, 150, 11, 0.1)\n"
     ]
    },
    {
     "name": "stderr",
     "output_type": "stream",
     "text": [
      "D:\\Anaconda_Install\\lib\\site-packages\\sklearn\\ensemble\\_gb.py:1454: DataConversionWarning: A column-vector y was passed when a 1d array was expected. Please change the shape of y to (n_samples, ), for example using ravel().\n",
      "  y = column_or_1d(y, warn=True)\n",
      "D:\\Anaconda_Install\\lib\\site-packages\\sklearn\\ensemble\\_gb.py:1454: DataConversionWarning: A column-vector y was passed when a 1d array was expected. Please change the shape of y to (n_samples, ), for example using ravel().\n",
      "  y = column_or_1d(y, warn=True)\n"
     ]
    },
    {
     "name": "stdout",
     "output_type": "stream",
     "text": [
      "(99.0, 150, 11, 1)\n",
      "(94.0, 150, 15, 0.01)\n"
     ]
    },
    {
     "name": "stderr",
     "output_type": "stream",
     "text": [
      "D:\\Anaconda_Install\\lib\\site-packages\\sklearn\\ensemble\\_gb.py:1454: DataConversionWarning: A column-vector y was passed when a 1d array was expected. Please change the shape of y to (n_samples, ), for example using ravel().\n",
      "  y = column_or_1d(y, warn=True)\n",
      "D:\\Anaconda_Install\\lib\\site-packages\\sklearn\\ensemble\\_gb.py:1454: DataConversionWarning: A column-vector y was passed when a 1d array was expected. Please change the shape of y to (n_samples, ), for example using ravel().\n",
      "  y = column_or_1d(y, warn=True)\n"
     ]
    },
    {
     "name": "stdout",
     "output_type": "stream",
     "text": [
      "(99.0, 150, 15, 0.1)\n",
      "(99.0, 150, 15, 1)\n"
     ]
    },
    {
     "name": "stderr",
     "output_type": "stream",
     "text": [
      "D:\\Anaconda_Install\\lib\\site-packages\\sklearn\\ensemble\\_gb.py:1454: DataConversionWarning: A column-vector y was passed when a 1d array was expected. Please change the shape of y to (n_samples, ), for example using ravel().\n",
      "  y = column_or_1d(y, warn=True)\n"
     ]
    }
   ],
   "source": [
    "# Parameter Tuning \n",
    "\n",
    "for n_est in [50, 100, 150]:\n",
    "    for max_depth in [3, 7, 11, 15]:\n",
    "        for lr in [0.01, 0.1, 1]:\n",
    "            print(train_GB(n_est, max_depth, lr))"
   ]
  },
  {
   "cell_type": "code",
   "execution_count": 98,
   "metadata": {},
   "outputs": [
    {
     "name": "stderr",
     "output_type": "stream",
     "text": [
      "D:\\Anaconda_Install\\lib\\site-packages\\sklearn\\ensemble\\_gb.py:1454: DataConversionWarning: A column-vector y was passed when a 1d array was expected. Please change the shape of y to (n_samples, ), for example using ravel().\n",
      "  y = column_or_1d(y, warn=True)\n"
     ]
    },
    {
     "data": {
      "text/plain": [
       "GradientBoostingRegressor(alpha=0.9, ccp_alpha=0.0, criterion='friedman_mse',\n",
       "                          init=None, learning_rate=1.0, loss='ls',\n",
       "                          max_depth=150, max_features=None, max_leaf_nodes=None,\n",
       "                          min_impurity_decrease=0.0, min_impurity_split=None,\n",
       "                          min_samples_leaf=1, min_samples_split=2,\n",
       "                          min_weight_fraction_leaf=0.0, n_estimators=3,\n",
       "                          n_iter_no_change=None, presort='deprecated',\n",
       "                          random_state=None, subsample=1.0, tol=0.0001,\n",
       "                          validation_fraction=0.1, verbose=0, warm_start=False)"
      ]
     },
     "execution_count": 98,
     "metadata": {},
     "output_type": "execute_result"
    }
   ],
   "source": [
    "# Gradient Boosting using parameters with best accuracy\n",
    "\n",
    "regressor = GradientBoostingRegressor(\n",
    "    max_depth=150,\n",
    "    n_estimators=3,\n",
    "    learning_rate=1.0\n",
    ")\n",
    "\n",
    "regressor.fit(X_train, y_train)"
   ]
  },
  {
   "cell_type": "code",
   "execution_count": 99,
   "metadata": {},
   "outputs": [
    {
     "name": "stdout",
     "output_type": "stream",
     "text": [
      "Mean Absolute Error:34328.79\n",
      "Mean Squared Error:2964685970.33\n"
     ]
    }
   ],
   "source": [
    "# Error calculation\n",
    "\n",
    "y_pred = regressor.predict(X_test)\n",
    "MAE_calc = mean_absolute_error(y_test, y_pred)\n",
    "\n",
    "MAE = round(MAE_calc,2)\n",
    "\n",
    "print('Mean Absolute Error:'+ str(MAE))\n",
    "\n",
    "\n",
    "MSE_calc = mean_squared_error(y_test, y_pred)\n",
    "MSE = round(MSE_calc,2)\n",
    "\n",
    "print('Mean Squared Error:' + str(MSE))"
   ]
  },
  {
   "cell_type": "code",
   "execution_count": 100,
   "metadata": {},
   "outputs": [
    {
     "name": "stdout",
     "output_type": "stream",
     "text": [
      "Accuracy:99.0\n"
     ]
    }
   ],
   "source": [
    "# Model Accuracy\n",
    "\n",
    "Accuracy_calc = regressor.score(X_train, y_train)\n",
    "Accuracy = round(Accuracy_calc, 2)*100\n",
    "\n",
    "print('Accuracy:' + str(Accuracy))"
   ]
  },
  {
   "cell_type": "markdown",
   "metadata": {},
   "source": [
    "# Fine Gael"
   ]
  },
  {
   "cell_type": "code",
   "execution_count": 101,
   "metadata": {},
   "outputs": [
    {
     "data": {
      "text/html": [
       "<div>\n",
       "<style scoped>\n",
       "    .dataframe tbody tr th:only-of-type {\n",
       "        vertical-align: middle;\n",
       "    }\n",
       "\n",
       "    .dataframe tbody tr th {\n",
       "        vertical-align: top;\n",
       "    }\n",
       "\n",
       "    .dataframe thead th {\n",
       "        text-align: right;\n",
       "    }\n",
       "</style>\n",
       "<table border=\"1\" class=\"dataframe\">\n",
       "  <thead>\n",
       "    <tr style=\"text-align: right;\">\n",
       "      <th></th>\n",
       "      <th>ID</th>\n",
       "      <th>Description</th>\n",
       "      <th>Problem Sector</th>\n",
       "      <th>Problem Influence Percentage</th>\n",
       "      <th>Period</th>\n",
       "      <th>StartDate</th>\n",
       "      <th>EndDate</th>\n",
       "      <th>Duration in Days</th>\n",
       "      <th>AmountSpent</th>\n",
       "      <th>MinAmount</th>\n",
       "      <th>MaxAmount</th>\n",
       "      <th>AvgAmount</th>\n",
       "      <th>Impressions</th>\n",
       "      <th>MinImpressions</th>\n",
       "      <th>MaxImpressions</th>\n",
       "      <th>AvgImpressions</th>\n",
       "      <th>Disclaimer</th>\n",
       "      <th>Party</th>\n",
       "      <th>OpinionPollDate</th>\n",
       "      <th>Votes</th>\n",
       "    </tr>\n",
       "  </thead>\n",
       "  <tbody>\n",
       "    <tr>\n",
       "      <th>0</th>\n",
       "      <td>327986918095723</td>\n",
       "      <td>Because we aren't able to determine your age, ...</td>\n",
       "      <td>Taxation</td>\n",
       "      <td>100.000000</td>\n",
       "      <td>3 Feb 2020-5 Feb 2020</td>\n",
       "      <td>2020-02-03</td>\n",
       "      <td>2020-02-05</td>\n",
       "      <td>2</td>\n",
       "      <td>€2.5K-€3K</td>\n",
       "      <td>2500</td>\n",
       "      <td>3000</td>\n",
       "      <td>2750.0</td>\n",
       "      <td>600K-700K</td>\n",
       "      <td>600000</td>\n",
       "      <td>700000</td>\n",
       "      <td>650000</td>\n",
       "      <td>When an advertiser categorises their ad as bei...</td>\n",
       "      <td>Fine Gael</td>\n",
       "      <td>2020-02-08</td>\n",
       "      <td>456406.885</td>\n",
       "    </tr>\n",
       "    <tr>\n",
       "      <th>1</th>\n",
       "      <td>2960531804013926</td>\n",
       "      <td>We have a deal on Brexit:\\u202c</td>\n",
       "      <td>Brexit</td>\n",
       "      <td>100.000000</td>\n",
       "      <td>15 Jan 2020-17 Jan 2020</td>\n",
       "      <td>2020-01-15</td>\n",
       "      <td>2020-01-17</td>\n",
       "      <td>2</td>\n",
       "      <td>€5K-€6K</td>\n",
       "      <td>5000</td>\n",
       "      <td>6000</td>\n",
       "      <td>5500.0</td>\n",
       "      <td>&gt;1M</td>\n",
       "      <td>1000000</td>\n",
       "      <td>1000000</td>\n",
       "      <td>1000000</td>\n",
       "      <td>&lt;U+2714&gt;&lt;U+FE0F&gt; Common Travel Area\\u202c &lt;U+2...</td>\n",
       "      <td>Fine Gael</td>\n",
       "      <td>2020-01-18</td>\n",
       "      <td>502265.950</td>\n",
       "    </tr>\n",
       "    <tr>\n",
       "      <th>2</th>\n",
       "      <td>2226077510802318</td>\n",
       "      <td>Vote No. 1 Andrew Doyle and No. 2 Deirdre Clun...</td>\n",
       "      <td>Candidate Endorsement</td>\n",
       "      <td>71.895425</td>\n",
       "      <td>21 May 2019-24 May 2019</td>\n",
       "      <td>2019-05-21</td>\n",
       "      <td>2019-05-24</td>\n",
       "      <td>3</td>\n",
       "      <td>€1.5K-€2K</td>\n",
       "      <td>1500</td>\n",
       "      <td>2000</td>\n",
       "      <td>1750.0</td>\n",
       "      <td>250K-300K</td>\n",
       "      <td>250000</td>\n",
       "      <td>300000</td>\n",
       "      <td>275000</td>\n",
       "      <td>When an advertiser categorises their ad as bei...</td>\n",
       "      <td>Fine Gael</td>\n",
       "      <td>2019-05-24</td>\n",
       "      <td>567778.900</td>\n",
       "    </tr>\n",
       "    <tr>\n",
       "      <th>3</th>\n",
       "      <td>187746649263475</td>\n",
       "      <td>This Saturday, ask yourself one question:</td>\n",
       "      <td>General</td>\n",
       "      <td>100.000000</td>\n",
       "      <td>4 Feb 2020-6 Feb 2020</td>\n",
       "      <td>2020-02-04</td>\n",
       "      <td>2020-02-06</td>\n",
       "      <td>2</td>\n",
       "      <td>€7K-€8K</td>\n",
       "      <td>7000</td>\n",
       "      <td>8000</td>\n",
       "      <td>7500.0</td>\n",
       "      <td>&gt;1M</td>\n",
       "      <td>1000000</td>\n",
       "      <td>1000000</td>\n",
       "      <td>1000000</td>\n",
       "      <td>Who do you trust?</td>\n",
       "      <td>Fine Gael</td>\n",
       "      <td>2020-02-08</td>\n",
       "      <td>456406.885</td>\n",
       "    </tr>\n",
       "    <tr>\n",
       "      <th>4</th>\n",
       "      <td>2339966166293552</td>\n",
       "      <td>With our tax plan, if you earn €45,000, you wi...</td>\n",
       "      <td>Taxation</td>\n",
       "      <td>42.307692</td>\n",
       "      <td>5 Feb 2020-6 Feb 2020</td>\n",
       "      <td>2020-02-05</td>\n",
       "      <td>2020-02-06</td>\n",
       "      <td>1</td>\n",
       "      <td>€1K-€1.5K</td>\n",
       "      <td>1000</td>\n",
       "      <td>1500</td>\n",
       "      <td>1250.0</td>\n",
       "      <td>250K-300K</td>\n",
       "      <td>250000</td>\n",
       "      <td>300000</td>\n",
       "      <td>275000</td>\n",
       "      <td>Better off by €1,940 per year</td>\n",
       "      <td>Fine Gael</td>\n",
       "      <td>2020-02-08</td>\n",
       "      <td>456406.885</td>\n",
       "    </tr>\n",
       "  </tbody>\n",
       "</table>\n",
       "</div>"
      ],
      "text/plain": [
       "                 ID                                        Description  \\\n",
       "0   327986918095723  Because we aren't able to determine your age, ...   \n",
       "1  2960531804013926                    We have a deal on Brexit:\\u202c   \n",
       "2  2226077510802318  Vote No. 1 Andrew Doyle and No. 2 Deirdre Clun...   \n",
       "3   187746649263475          This Saturday, ask yourself one question:   \n",
       "4  2339966166293552  With our tax plan, if you earn €45,000, you wi...   \n",
       "\n",
       "          Problem Sector  Problem Influence Percentage  \\\n",
       "0               Taxation                    100.000000   \n",
       "1                 Brexit                    100.000000   \n",
       "2  Candidate Endorsement                     71.895425   \n",
       "3                General                    100.000000   \n",
       "4               Taxation                     42.307692   \n",
       "\n",
       "                    Period  StartDate    EndDate  Duration in Days  \\\n",
       "0    3 Feb 2020-5 Feb 2020 2020-02-03 2020-02-05                 2   \n",
       "1  15 Jan 2020-17 Jan 2020 2020-01-15 2020-01-17                 2   \n",
       "2  21 May 2019-24 May 2019 2019-05-21 2019-05-24                 3   \n",
       "3    4 Feb 2020-6 Feb 2020 2020-02-04 2020-02-06                 2   \n",
       "4    5 Feb 2020-6 Feb 2020 2020-02-05 2020-02-06                 1   \n",
       "\n",
       "  AmountSpent  MinAmount  MaxAmount  AvgAmount Impressions  MinImpressions  \\\n",
       "0   €2.5K-€3K       2500       3000     2750.0   600K-700K          600000   \n",
       "1     €5K-€6K       5000       6000     5500.0         >1M         1000000   \n",
       "2   €1.5K-€2K       1500       2000     1750.0   250K-300K          250000   \n",
       "3     €7K-€8K       7000       8000     7500.0         >1M         1000000   \n",
       "4   €1K-€1.5K       1000       1500     1250.0   250K-300K          250000   \n",
       "\n",
       "   MaxImpressions  AvgImpressions  \\\n",
       "0          700000          650000   \n",
       "1         1000000         1000000   \n",
       "2          300000          275000   \n",
       "3         1000000         1000000   \n",
       "4          300000          275000   \n",
       "\n",
       "                                          Disclaimer      Party  \\\n",
       "0  When an advertiser categorises their ad as bei...  Fine Gael   \n",
       "1  <U+2714><U+FE0F> Common Travel Area\\u202c <U+2...  Fine Gael   \n",
       "2  When an advertiser categorises their ad as bei...  Fine Gael   \n",
       "3                                  Who do you trust?  Fine Gael   \n",
       "4                      Better off by €1,940 per year  Fine Gael   \n",
       "\n",
       "  OpinionPollDate       Votes  \n",
       "0      2020-02-08  456406.885  \n",
       "1      2020-01-18  502265.950  \n",
       "2      2019-05-24  567778.900  \n",
       "3      2020-02-08  456406.885  \n",
       "4      2020-02-08  456406.885  "
      ]
     },
     "execution_count": 101,
     "metadata": {},
     "output_type": "execute_result"
    }
   ],
   "source": [
    "data_FG = pd.read_excel('D:/NUIG/Final Project/FinalData/FineGael_Final.xlsx')\n",
    "\n",
    "data_FG.head(5)"
   ]
  },
  {
   "cell_type": "code",
   "execution_count": 102,
   "metadata": {},
   "outputs": [
    {
     "data": {
      "text/html": [
       "<div>\n",
       "<style scoped>\n",
       "    .dataframe tbody tr th:only-of-type {\n",
       "        vertical-align: middle;\n",
       "    }\n",
       "\n",
       "    .dataframe tbody tr th {\n",
       "        vertical-align: top;\n",
       "    }\n",
       "\n",
       "    .dataframe thead th {\n",
       "        text-align: right;\n",
       "    }\n",
       "</style>\n",
       "<table border=\"1\" class=\"dataframe\">\n",
       "  <thead>\n",
       "    <tr style=\"text-align: right;\">\n",
       "      <th></th>\n",
       "      <th>Problem Influence Percentage</th>\n",
       "      <th>AvgAmount</th>\n",
       "      <th>AvgImpressions</th>\n",
       "      <th>Duration in Days</th>\n",
       "      <th>Votes</th>\n",
       "    </tr>\n",
       "  </thead>\n",
       "  <tbody>\n",
       "    <tr>\n",
       "      <th>0</th>\n",
       "      <td>100.000000</td>\n",
       "      <td>2750.0</td>\n",
       "      <td>650000</td>\n",
       "      <td>2</td>\n",
       "      <td>456406.885</td>\n",
       "    </tr>\n",
       "    <tr>\n",
       "      <th>1</th>\n",
       "      <td>100.000000</td>\n",
       "      <td>5500.0</td>\n",
       "      <td>1000000</td>\n",
       "      <td>2</td>\n",
       "      <td>502265.950</td>\n",
       "    </tr>\n",
       "    <tr>\n",
       "      <th>2</th>\n",
       "      <td>71.895425</td>\n",
       "      <td>1750.0</td>\n",
       "      <td>275000</td>\n",
       "      <td>3</td>\n",
       "      <td>567778.900</td>\n",
       "    </tr>\n",
       "    <tr>\n",
       "      <th>3</th>\n",
       "      <td>100.000000</td>\n",
       "      <td>7500.0</td>\n",
       "      <td>1000000</td>\n",
       "      <td>2</td>\n",
       "      <td>456406.885</td>\n",
       "    </tr>\n",
       "    <tr>\n",
       "      <th>4</th>\n",
       "      <td>42.307692</td>\n",
       "      <td>1250.0</td>\n",
       "      <td>275000</td>\n",
       "      <td>1</td>\n",
       "      <td>456406.885</td>\n",
       "    </tr>\n",
       "  </tbody>\n",
       "</table>\n",
       "</div>"
      ],
      "text/plain": [
       "   Problem Influence Percentage  AvgAmount  AvgImpressions  Duration in Days  \\\n",
       "0                    100.000000     2750.0          650000                 2   \n",
       "1                    100.000000     5500.0         1000000                 2   \n",
       "2                     71.895425     1750.0          275000                 3   \n",
       "3                    100.000000     7500.0         1000000                 2   \n",
       "4                     42.307692     1250.0          275000                 1   \n",
       "\n",
       "        Votes  \n",
       "0  456406.885  \n",
       "1  502265.950  \n",
       "2  567778.900  \n",
       "3  456406.885  \n",
       "4  456406.885  "
      ]
     },
     "execution_count": 102,
     "metadata": {},
     "output_type": "execute_result"
    }
   ],
   "source": [
    "sub_data = data_FG[['Problem Influence Percentage', 'AvgAmount', 'AvgImpressions', 'Duration in Days','Votes']]\n",
    "\n",
    "sub_data.head(5)"
   ]
  },
  {
   "cell_type": "code",
   "execution_count": 103,
   "metadata": {},
   "outputs": [
    {
     "data": {
      "text/html": [
       "<div>\n",
       "<style scoped>\n",
       "    .dataframe tbody tr th:only-of-type {\n",
       "        vertical-align: middle;\n",
       "    }\n",
       "\n",
       "    .dataframe tbody tr th {\n",
       "        vertical-align: top;\n",
       "    }\n",
       "\n",
       "    .dataframe thead th {\n",
       "        text-align: right;\n",
       "    }\n",
       "</style>\n",
       "<table border=\"1\" class=\"dataframe\">\n",
       "  <thead>\n",
       "    <tr style=\"text-align: right;\">\n",
       "      <th></th>\n",
       "      <th>Votes</th>\n",
       "    </tr>\n",
       "  </thead>\n",
       "  <tbody>\n",
       "    <tr>\n",
       "      <th>0</th>\n",
       "      <td>456406.885</td>\n",
       "    </tr>\n",
       "    <tr>\n",
       "      <th>1</th>\n",
       "      <td>502265.950</td>\n",
       "    </tr>\n",
       "    <tr>\n",
       "      <th>2</th>\n",
       "      <td>567778.900</td>\n",
       "    </tr>\n",
       "    <tr>\n",
       "      <th>3</th>\n",
       "      <td>456406.885</td>\n",
       "    </tr>\n",
       "    <tr>\n",
       "      <th>4</th>\n",
       "      <td>456406.885</td>\n",
       "    </tr>\n",
       "  </tbody>\n",
       "</table>\n",
       "</div>"
      ],
      "text/plain": [
       "        Votes\n",
       "0  456406.885\n",
       "1  502265.950\n",
       "2  567778.900\n",
       "3  456406.885\n",
       "4  456406.885"
      ]
     },
     "execution_count": 103,
     "metadata": {},
     "output_type": "execute_result"
    }
   ],
   "source": [
    "iv_fg = sub_data.iloc[:, 0:4]\n",
    "iv_fg.head(5)\n",
    "\n",
    "dv_fg= sub_data.iloc[:, -1:]\n",
    "dv_fg.head(5)"
   ]
  },
  {
   "cell_type": "code",
   "execution_count": 104,
   "metadata": {},
   "outputs": [],
   "source": [
    "X_train, X_test, y_train, y_test = train_test_split(iv_fg, dv_fg)"
   ]
  },
  {
   "cell_type": "code",
   "execution_count": 105,
   "metadata": {},
   "outputs": [],
   "source": [
    "def train_GB(est, max_depth, lr):\n",
    "    \n",
    "    gb = GradientBoostingRegressor(n_estimators=est, max_depth=max_depth, learning_rate=lr)\n",
    "    gb_model = gb.fit(X_train, y_train)\n",
    "    y_pred = gb_model.predict(X_test)\n",
    "    Acc = (gb.score(X_train, y_train))\n",
    "    return (round(Acc,2)*100), est , max_depth , lr\n",
    "   "
   ]
  },
  {
   "cell_type": "code",
   "execution_count": 106,
   "metadata": {},
   "outputs": [
    {
     "name": "stderr",
     "output_type": "stream",
     "text": [
      "D:\\Anaconda_Install\\lib\\site-packages\\sklearn\\ensemble\\_gb.py:1454: DataConversionWarning: A column-vector y was passed when a 1d array was expected. Please change the shape of y to (n_samples, ), for example using ravel().\n",
      "  y = column_or_1d(y, warn=True)\n",
      "D:\\Anaconda_Install\\lib\\site-packages\\sklearn\\ensemble\\_gb.py:1454: DataConversionWarning: A column-vector y was passed when a 1d array was expected. Please change the shape of y to (n_samples, ), for example using ravel().\n",
      "  y = column_or_1d(y, warn=True)\n",
      "D:\\Anaconda_Install\\lib\\site-packages\\sklearn\\ensemble\\_gb.py:1454: DataConversionWarning: A column-vector y was passed when a 1d array was expected. Please change the shape of y to (n_samples, ), for example using ravel().\n",
      "  y = column_or_1d(y, warn=True)\n",
      "D:\\Anaconda_Install\\lib\\site-packages\\sklearn\\ensemble\\_gb.py:1454: DataConversionWarning: A column-vector y was passed when a 1d array was expected. Please change the shape of y to (n_samples, ), for example using ravel().\n",
      "  y = column_or_1d(y, warn=True)\n",
      "D:\\Anaconda_Install\\lib\\site-packages\\sklearn\\ensemble\\_gb.py:1454: DataConversionWarning: A column-vector y was passed when a 1d array was expected. Please change the shape of y to (n_samples, ), for example using ravel().\n",
      "  y = column_or_1d(y, warn=True)\n"
     ]
    },
    {
     "name": "stdout",
     "output_type": "stream",
     "text": [
      "(31.0, 50, 3, 0.01)\n",
      "(77.0, 50, 3, 0.1)\n",
      "(100.0, 50, 3, 1)\n",
      "(55.00000000000001, 50, 7, 0.01)\n",
      "(99.0, 50, 7, 0.1)\n"
     ]
    },
    {
     "name": "stderr",
     "output_type": "stream",
     "text": [
      "D:\\Anaconda_Install\\lib\\site-packages\\sklearn\\ensemble\\_gb.py:1454: DataConversionWarning: A column-vector y was passed when a 1d array was expected. Please change the shape of y to (n_samples, ), for example using ravel().\n",
      "  y = column_or_1d(y, warn=True)\n",
      "D:\\Anaconda_Install\\lib\\site-packages\\sklearn\\ensemble\\_gb.py:1454: DataConversionWarning: A column-vector y was passed when a 1d array was expected. Please change the shape of y to (n_samples, ), for example using ravel().\n",
      "  y = column_or_1d(y, warn=True)\n",
      "D:\\Anaconda_Install\\lib\\site-packages\\sklearn\\ensemble\\_gb.py:1454: DataConversionWarning: A column-vector y was passed when a 1d array was expected. Please change the shape of y to (n_samples, ), for example using ravel().\n",
      "  y = column_or_1d(y, warn=True)\n",
      "D:\\Anaconda_Install\\lib\\site-packages\\sklearn\\ensemble\\_gb.py:1454: DataConversionWarning: A column-vector y was passed when a 1d array was expected. Please change the shape of y to (n_samples, ), for example using ravel().\n",
      "  y = column_or_1d(y, warn=True)\n",
      "D:\\Anaconda_Install\\lib\\site-packages\\sklearn\\ensemble\\_gb.py:1454: DataConversionWarning: A column-vector y was passed when a 1d array was expected. Please change the shape of y to (n_samples, ), for example using ravel().\n",
      "  y = column_or_1d(y, warn=True)\n"
     ]
    },
    {
     "name": "stdout",
     "output_type": "stream",
     "text": [
      "(100.0, 50, 7, 1)\n",
      "(63.0, 50, 11, 0.01)\n",
      "(100.0, 50, 11, 0.1)\n",
      "(100.0, 50, 11, 1)\n",
      "(63.0, 50, 15, 0.01)\n"
     ]
    },
    {
     "name": "stderr",
     "output_type": "stream",
     "text": [
      "D:\\Anaconda_Install\\lib\\site-packages\\sklearn\\ensemble\\_gb.py:1454: DataConversionWarning: A column-vector y was passed when a 1d array was expected. Please change the shape of y to (n_samples, ), for example using ravel().\n",
      "  y = column_or_1d(y, warn=True)\n",
      "D:\\Anaconda_Install\\lib\\site-packages\\sklearn\\ensemble\\_gb.py:1454: DataConversionWarning: A column-vector y was passed when a 1d array was expected. Please change the shape of y to (n_samples, ), for example using ravel().\n",
      "  y = column_or_1d(y, warn=True)\n",
      "D:\\Anaconda_Install\\lib\\site-packages\\sklearn\\ensemble\\_gb.py:1454: DataConversionWarning: A column-vector y was passed when a 1d array was expected. Please change the shape of y to (n_samples, ), for example using ravel().\n",
      "  y = column_or_1d(y, warn=True)\n",
      "D:\\Anaconda_Install\\lib\\site-packages\\sklearn\\ensemble\\_gb.py:1454: DataConversionWarning: A column-vector y was passed when a 1d array was expected. Please change the shape of y to (n_samples, ), for example using ravel().\n",
      "  y = column_or_1d(y, warn=True)\n"
     ]
    },
    {
     "name": "stdout",
     "output_type": "stream",
     "text": [
      "(100.0, 50, 15, 0.1)\n",
      "(100.0, 50, 15, 1)\n",
      "(44.0, 100, 3, 0.01)\n",
      "(89.0, 100, 3, 0.1)\n"
     ]
    },
    {
     "name": "stderr",
     "output_type": "stream",
     "text": [
      "D:\\Anaconda_Install\\lib\\site-packages\\sklearn\\ensemble\\_gb.py:1454: DataConversionWarning: A column-vector y was passed when a 1d array was expected. Please change the shape of y to (n_samples, ), for example using ravel().\n",
      "  y = column_or_1d(y, warn=True)\n",
      "D:\\Anaconda_Install\\lib\\site-packages\\sklearn\\ensemble\\_gb.py:1454: DataConversionWarning: A column-vector y was passed when a 1d array was expected. Please change the shape of y to (n_samples, ), for example using ravel().\n",
      "  y = column_or_1d(y, warn=True)\n",
      "D:\\Anaconda_Install\\lib\\site-packages\\sklearn\\ensemble\\_gb.py:1454: DataConversionWarning: A column-vector y was passed when a 1d array was expected. Please change the shape of y to (n_samples, ), for example using ravel().\n",
      "  y = column_or_1d(y, warn=True)\n"
     ]
    },
    {
     "name": "stdout",
     "output_type": "stream",
     "text": [
      "(100.0, 100, 3, 1)\n",
      "(75.0, 100, 7, 0.01)\n",
      "(100.0, 100, 7, 0.1)\n"
     ]
    },
    {
     "name": "stderr",
     "output_type": "stream",
     "text": [
      "D:\\Anaconda_Install\\lib\\site-packages\\sklearn\\ensemble\\_gb.py:1454: DataConversionWarning: A column-vector y was passed when a 1d array was expected. Please change the shape of y to (n_samples, ), for example using ravel().\n",
      "  y = column_or_1d(y, warn=True)\n",
      "D:\\Anaconda_Install\\lib\\site-packages\\sklearn\\ensemble\\_gb.py:1454: DataConversionWarning: A column-vector y was passed when a 1d array was expected. Please change the shape of y to (n_samples, ), for example using ravel().\n",
      "  y = column_or_1d(y, warn=True)\n",
      "D:\\Anaconda_Install\\lib\\site-packages\\sklearn\\ensemble\\_gb.py:1454: DataConversionWarning: A column-vector y was passed when a 1d array was expected. Please change the shape of y to (n_samples, ), for example using ravel().\n",
      "  y = column_or_1d(y, warn=True)\n"
     ]
    },
    {
     "name": "stdout",
     "output_type": "stream",
     "text": [
      "(100.0, 100, 7, 1)\n",
      "(86.0, 100, 11, 0.01)\n",
      "(100.0, 100, 11, 0.1)\n"
     ]
    },
    {
     "name": "stderr",
     "output_type": "stream",
     "text": [
      "D:\\Anaconda_Install\\lib\\site-packages\\sklearn\\ensemble\\_gb.py:1454: DataConversionWarning: A column-vector y was passed when a 1d array was expected. Please change the shape of y to (n_samples, ), for example using ravel().\n",
      "  y = column_or_1d(y, warn=True)\n",
      "D:\\Anaconda_Install\\lib\\site-packages\\sklearn\\ensemble\\_gb.py:1454: DataConversionWarning: A column-vector y was passed when a 1d array was expected. Please change the shape of y to (n_samples, ), for example using ravel().\n",
      "  y = column_or_1d(y, warn=True)\n",
      "D:\\Anaconda_Install\\lib\\site-packages\\sklearn\\ensemble\\_gb.py:1454: DataConversionWarning: A column-vector y was passed when a 1d array was expected. Please change the shape of y to (n_samples, ), for example using ravel().\n",
      "  y = column_or_1d(y, warn=True)\n"
     ]
    },
    {
     "name": "stdout",
     "output_type": "stream",
     "text": [
      "(100.0, 100, 11, 1)\n",
      "(86.0, 100, 15, 0.01)\n",
      "(100.0, 100, 15, 0.1)\n"
     ]
    },
    {
     "name": "stderr",
     "output_type": "stream",
     "text": [
      "D:\\Anaconda_Install\\lib\\site-packages\\sklearn\\ensemble\\_gb.py:1454: DataConversionWarning: A column-vector y was passed when a 1d array was expected. Please change the shape of y to (n_samples, ), for example using ravel().\n",
      "  y = column_or_1d(y, warn=True)\n",
      "D:\\Anaconda_Install\\lib\\site-packages\\sklearn\\ensemble\\_gb.py:1454: DataConversionWarning: A column-vector y was passed when a 1d array was expected. Please change the shape of y to (n_samples, ), for example using ravel().\n",
      "  y = column_or_1d(y, warn=True)\n",
      "D:\\Anaconda_Install\\lib\\site-packages\\sklearn\\ensemble\\_gb.py:1454: DataConversionWarning: A column-vector y was passed when a 1d array was expected. Please change the shape of y to (n_samples, ), for example using ravel().\n",
      "  y = column_or_1d(y, warn=True)\n"
     ]
    },
    {
     "name": "stdout",
     "output_type": "stream",
     "text": [
      "(100.0, 100, 15, 1)\n",
      "(52.0, 150, 3, 0.01)\n",
      "(95.0, 150, 3, 0.1)\n",
      "(100.0, 150, 3, 1)\n"
     ]
    },
    {
     "name": "stderr",
     "output_type": "stream",
     "text": [
      "D:\\Anaconda_Install\\lib\\site-packages\\sklearn\\ensemble\\_gb.py:1454: DataConversionWarning: A column-vector y was passed when a 1d array was expected. Please change the shape of y to (n_samples, ), for example using ravel().\n",
      "  y = column_or_1d(y, warn=True)\n",
      "D:\\Anaconda_Install\\lib\\site-packages\\sklearn\\ensemble\\_gb.py:1454: DataConversionWarning: A column-vector y was passed when a 1d array was expected. Please change the shape of y to (n_samples, ), for example using ravel().\n",
      "  y = column_or_1d(y, warn=True)\n"
     ]
    },
    {
     "name": "stdout",
     "output_type": "stream",
     "text": [
      "(87.0, 150, 7, 0.01)\n",
      "(100.0, 150, 7, 0.1)\n"
     ]
    },
    {
     "name": "stderr",
     "output_type": "stream",
     "text": [
      "D:\\Anaconda_Install\\lib\\site-packages\\sklearn\\ensemble\\_gb.py:1454: DataConversionWarning: A column-vector y was passed when a 1d array was expected. Please change the shape of y to (n_samples, ), for example using ravel().\n",
      "  y = column_or_1d(y, warn=True)\n",
      "D:\\Anaconda_Install\\lib\\site-packages\\sklearn\\ensemble\\_gb.py:1454: DataConversionWarning: A column-vector y was passed when a 1d array was expected. Please change the shape of y to (n_samples, ), for example using ravel().\n",
      "  y = column_or_1d(y, warn=True)\n"
     ]
    },
    {
     "name": "stdout",
     "output_type": "stream",
     "text": [
      "(100.0, 150, 7, 1)\n",
      "(95.0, 150, 11, 0.01)\n"
     ]
    },
    {
     "name": "stderr",
     "output_type": "stream",
     "text": [
      "D:\\Anaconda_Install\\lib\\site-packages\\sklearn\\ensemble\\_gb.py:1454: DataConversionWarning: A column-vector y was passed when a 1d array was expected. Please change the shape of y to (n_samples, ), for example using ravel().\n",
      "  y = column_or_1d(y, warn=True)\n",
      "D:\\Anaconda_Install\\lib\\site-packages\\sklearn\\ensemble\\_gb.py:1454: DataConversionWarning: A column-vector y was passed when a 1d array was expected. Please change the shape of y to (n_samples, ), for example using ravel().\n",
      "  y = column_or_1d(y, warn=True)\n"
     ]
    },
    {
     "name": "stdout",
     "output_type": "stream",
     "text": [
      "(100.0, 150, 11, 0.1)\n",
      "(100.0, 150, 11, 1)\n"
     ]
    },
    {
     "name": "stderr",
     "output_type": "stream",
     "text": [
      "D:\\Anaconda_Install\\lib\\site-packages\\sklearn\\ensemble\\_gb.py:1454: DataConversionWarning: A column-vector y was passed when a 1d array was expected. Please change the shape of y to (n_samples, ), for example using ravel().\n",
      "  y = column_or_1d(y, warn=True)\n",
      "D:\\Anaconda_Install\\lib\\site-packages\\sklearn\\ensemble\\_gb.py:1454: DataConversionWarning: A column-vector y was passed when a 1d array was expected. Please change the shape of y to (n_samples, ), for example using ravel().\n",
      "  y = column_or_1d(y, warn=True)\n"
     ]
    },
    {
     "name": "stdout",
     "output_type": "stream",
     "text": [
      "(95.0, 150, 15, 0.01)\n",
      "(100.0, 150, 15, 0.1)\n"
     ]
    },
    {
     "name": "stderr",
     "output_type": "stream",
     "text": [
      "D:\\Anaconda_Install\\lib\\site-packages\\sklearn\\ensemble\\_gb.py:1454: DataConversionWarning: A column-vector y was passed when a 1d array was expected. Please change the shape of y to (n_samples, ), for example using ravel().\n",
      "  y = column_or_1d(y, warn=True)\n",
      "D:\\Anaconda_Install\\lib\\site-packages\\sklearn\\ensemble\\_gb.py:1454: DataConversionWarning: A column-vector y was passed when a 1d array was expected. Please change the shape of y to (n_samples, ), for example using ravel().\n",
      "  y = column_or_1d(y, warn=True)\n"
     ]
    },
    {
     "name": "stdout",
     "output_type": "stream",
     "text": [
      "(100.0, 150, 15, 1)\n"
     ]
    }
   ],
   "source": [
    "for n_est in [50, 100, 150]:\n",
    "    for max_depth in [3, 7, 11, 15]:\n",
    "        for lr in [0.01, 0.1, 1]:\n",
    "            print(train_GB(n_est, max_depth, lr))"
   ]
  },
  {
   "cell_type": "code",
   "execution_count": 107,
   "metadata": {},
   "outputs": [],
   "source": [
    "regressor = GradientBoostingRegressor(\n",
    "    max_depth=150,\n",
    "    n_estimators=3,\n",
    "    learning_rate=1.0\n",
    ")"
   ]
  },
  {
   "cell_type": "code",
   "execution_count": 108,
   "metadata": {},
   "outputs": [
    {
     "name": "stderr",
     "output_type": "stream",
     "text": [
      "D:\\Anaconda_Install\\lib\\site-packages\\sklearn\\ensemble\\_gb.py:1454: DataConversionWarning: A column-vector y was passed when a 1d array was expected. Please change the shape of y to (n_samples, ), for example using ravel().\n",
      "  y = column_or_1d(y, warn=True)\n"
     ]
    },
    {
     "data": {
      "text/plain": [
       "GradientBoostingRegressor(alpha=0.9, ccp_alpha=0.0, criterion='friedman_mse',\n",
       "                          init=None, learning_rate=1.0, loss='ls',\n",
       "                          max_depth=150, max_features=None, max_leaf_nodes=None,\n",
       "                          min_impurity_decrease=0.0, min_impurity_split=None,\n",
       "                          min_samples_leaf=1, min_samples_split=2,\n",
       "                          min_weight_fraction_leaf=0.0, n_estimators=3,\n",
       "                          n_iter_no_change=None, presort='deprecated',\n",
       "                          random_state=None, subsample=1.0, tol=0.0001,\n",
       "                          validation_fraction=0.1, verbose=0, warm_start=False)"
      ]
     },
     "execution_count": 108,
     "metadata": {},
     "output_type": "execute_result"
    }
   ],
   "source": [
    "regressor.fit(X_train, y_train)"
   ]
  },
  {
   "cell_type": "code",
   "execution_count": 109,
   "metadata": {},
   "outputs": [
    {
     "name": "stdout",
     "output_type": "stream",
     "text": [
      "Mean Absolute Error:54881.46\n",
      "Mean Squared Error:6472180202.19\n"
     ]
    }
   ],
   "source": [
    "y_pred = regressor.predict(X_test)\n",
    "\n",
    "MAE_calc = mean_absolute_error(y_test, y_pred)\n",
    "\n",
    "MAE = round(MAE_calc,2)\n",
    "\n",
    "print('Mean Absolute Error:'+ str(MAE))\n",
    "\n",
    "\n",
    "MSE_calc = mean_squared_error(y_test, y_pred)\n",
    "MSE = round(MSE_calc,2)\n",
    "\n",
    "print('Mean Squared Error:' + str(MSE))\n"
   ]
  },
  {
   "cell_type": "code",
   "execution_count": 110,
   "metadata": {},
   "outputs": [
    {
     "name": "stdout",
     "output_type": "stream",
     "text": [
      "Accuracy:100.0\n"
     ]
    }
   ],
   "source": [
    "Accuracy_calc = regressor.score(X_train, y_train)\n",
    "Accuracy = round(Accuracy_calc, 2)*100\n",
    "\n",
    "print('Accuracy:' + str(Accuracy))"
   ]
  },
  {
   "cell_type": "markdown",
   "metadata": {},
   "source": [
    "# SinnFein"
   ]
  },
  {
   "cell_type": "code",
   "execution_count": 111,
   "metadata": {},
   "outputs": [
    {
     "data": {
      "text/html": [
       "<div>\n",
       "<style scoped>\n",
       "    .dataframe tbody tr th:only-of-type {\n",
       "        vertical-align: middle;\n",
       "    }\n",
       "\n",
       "    .dataframe tbody tr th {\n",
       "        vertical-align: top;\n",
       "    }\n",
       "\n",
       "    .dataframe thead th {\n",
       "        text-align: right;\n",
       "    }\n",
       "</style>\n",
       "<table border=\"1\" class=\"dataframe\">\n",
       "  <thead>\n",
       "    <tr style=\"text-align: right;\">\n",
       "      <th></th>\n",
       "      <th>Ad number</th>\n",
       "      <th>ID</th>\n",
       "      <th>Description</th>\n",
       "      <th>Problem Sector</th>\n",
       "      <th>Problem Influence Percentage</th>\n",
       "      <th>Period</th>\n",
       "      <th>AmountSpent</th>\n",
       "      <th>Impressions</th>\n",
       "      <th>Disclaimer</th>\n",
       "      <th>Party</th>\n",
       "      <th>...</th>\n",
       "      <th>MaxAmount</th>\n",
       "      <th>AvgAmount</th>\n",
       "      <th>AvgImpressions</th>\n",
       "      <th>No of Ad Versions</th>\n",
       "      <th>AggregatedImpressions</th>\n",
       "      <th>AggregatedAmount</th>\n",
       "      <th>Total Impressions</th>\n",
       "      <th>Total Amount</th>\n",
       "      <th>OpinionPollDate</th>\n",
       "      <th>Votes</th>\n",
       "    </tr>\n",
       "  </thead>\n",
       "  <tbody>\n",
       "    <tr>\n",
       "      <th>0</th>\n",
       "      <td>1</td>\n",
       "      <td>2615263148714989</td>\n",
       "      <td>Painéal: Pearse Doherty, Mairéad Farrell agus ...</td>\n",
       "      <td>General</td>\n",
       "      <td>13.5</td>\n",
       "      <td>25 May 2020-27 May 2020</td>\n",
       "      <td>€100-€199</td>\n",
       "      <td>10K-50K people</td>\n",
       "      <td>Sponsored • Paid for by Sinn Féin</td>\n",
       "      <td>Sinn Féin Ireland</td>\n",
       "      <td>...</td>\n",
       "      <td>199</td>\n",
       "      <td>149.5</td>\n",
       "      <td>30000</td>\n",
       "      <td>2</td>\n",
       "      <td>105000.0</td>\n",
       "      <td>100.0</td>\n",
       "      <td>135000</td>\n",
       "      <td>249.5</td>\n",
       "      <td>2020-02-08</td>\n",
       "      <td>535022.425</td>\n",
       "    </tr>\n",
       "    <tr>\n",
       "      <th>1</th>\n",
       "      <td>2</td>\n",
       "      <td>1538506679643497</td>\n",
       "      <td>The government's exclusion of women returning ...</td>\n",
       "      <td>Jobs</td>\n",
       "      <td>100.0</td>\n",
       "      <td>18 May 2020-20 May 2020</td>\n",
       "      <td>€200-€299</td>\n",
       "      <td>100K-500K people</td>\n",
       "      <td>When an advertiser categorises their ad as bei...</td>\n",
       "      <td>Sinn Féin Ireland</td>\n",
       "      <td>...</td>\n",
       "      <td>299</td>\n",
       "      <td>249.5</td>\n",
       "      <td>300000</td>\n",
       "      <td>4</td>\n",
       "      <td>1200000.0</td>\n",
       "      <td>349.5</td>\n",
       "      <td>1500000</td>\n",
       "      <td>599.0</td>\n",
       "      <td>2020-02-08</td>\n",
       "      <td>535022.425</td>\n",
       "    </tr>\n",
       "    <tr>\n",
       "      <th>2</th>\n",
       "      <td>3</td>\n",
       "      <td>174858850491822</td>\n",
       "      <td>Join Mary Lou McDonald, Michelle O'Neill, Pear...</td>\n",
       "      <td>General</td>\n",
       "      <td>90.0</td>\n",
       "      <td>14 May 2020-17 May 2020</td>\n",
       "      <td>€300-€399</td>\n",
       "      <td>100K-500K people</td>\n",
       "      <td>LIVE Q&amp;A with Sinn Féin's Leadership Team</td>\n",
       "      <td>Sinn Féin Ireland</td>\n",
       "      <td>...</td>\n",
       "      <td>399</td>\n",
       "      <td>349.5</td>\n",
       "      <td>300000</td>\n",
       "      <td>2</td>\n",
       "      <td>600000.0</td>\n",
       "      <td>249.5</td>\n",
       "      <td>900000</td>\n",
       "      <td>599.0</td>\n",
       "      <td>2020-02-08</td>\n",
       "      <td>535022.425</td>\n",
       "    </tr>\n",
       "    <tr>\n",
       "      <th>3</th>\n",
       "      <td>4</td>\n",
       "      <td>1186866171668459</td>\n",
       "      <td>Join Mary Lou, Michelle O'Neill, Deirdre Harge...</td>\n",
       "      <td>Health</td>\n",
       "      <td>30.0</td>\n",
       "      <td>1 May 2020-3 May 2020</td>\n",
       "      <td>€200-€299</td>\n",
       "      <td>100K-500K people</td>\n",
       "      <td>LIVE Online Public Meeting - Leadership and Mi...</td>\n",
       "      <td>Sinn Féin Ireland</td>\n",
       "      <td>...</td>\n",
       "      <td>299</td>\n",
       "      <td>249.5</td>\n",
       "      <td>300000</td>\n",
       "      <td>1</td>\n",
       "      <td>0.0</td>\n",
       "      <td>0.0</td>\n",
       "      <td>300000</td>\n",
       "      <td>249.5</td>\n",
       "      <td>2020-02-08</td>\n",
       "      <td>535022.425</td>\n",
       "    </tr>\n",
       "    <tr>\n",
       "      <th>4</th>\n",
       "      <td>5</td>\n",
       "      <td>254138499304891</td>\n",
       "      <td>Join me and the Sinn Féin leadership team on M...</td>\n",
       "      <td>General</td>\n",
       "      <td>30.0</td>\n",
       "      <td>19 Apr 2020-20 Apr 2020</td>\n",
       "      <td>&lt;€100</td>\n",
       "      <td>100K-500K people</td>\n",
       "      <td>Sponsored • Paid for by Sinn Féin</td>\n",
       "      <td>Sinn Féin Ireland</td>\n",
       "      <td>...</td>\n",
       "      <td>100</td>\n",
       "      <td>100.0</td>\n",
       "      <td>300000</td>\n",
       "      <td>1</td>\n",
       "      <td>0.0</td>\n",
       "      <td>0.0</td>\n",
       "      <td>300000</td>\n",
       "      <td>100.0</td>\n",
       "      <td>2020-02-08</td>\n",
       "      <td>535022.425</td>\n",
       "    </tr>\n",
       "  </tbody>\n",
       "</table>\n",
       "<p>5 rows × 26 columns</p>\n",
       "</div>"
      ],
      "text/plain": [
       "   Ad number                ID  \\\n",
       "0          1  2615263148714989   \n",
       "1          2  1538506679643497   \n",
       "2          3   174858850491822   \n",
       "3          4  1186866171668459   \n",
       "4          5   254138499304891   \n",
       "\n",
       "                                         Description Problem Sector  \\\n",
       "0  Painéal: Pearse Doherty, Mairéad Farrell agus ...        General   \n",
       "1  The government's exclusion of women returning ...           Jobs   \n",
       "2  Join Mary Lou McDonald, Michelle O'Neill, Pear...        General   \n",
       "3  Join Mary Lou, Michelle O'Neill, Deirdre Harge...         Health   \n",
       "4  Join me and the Sinn Féin leadership team on M...        General   \n",
       "\n",
       "   Problem Influence Percentage                   Period AmountSpent  \\\n",
       "0                          13.5  25 May 2020-27 May 2020   €100-€199   \n",
       "1                         100.0  18 May 2020-20 May 2020   €200-€299   \n",
       "2                          90.0  14 May 2020-17 May 2020   €300-€399   \n",
       "3                          30.0    1 May 2020-3 May 2020   €200-€299   \n",
       "4                          30.0  19 Apr 2020-20 Apr 2020       <€100   \n",
       "\n",
       "        Impressions                                         Disclaimer  \\\n",
       "0    10K-50K people                  Sponsored • Paid for by Sinn Féin   \n",
       "1  100K-500K people  When an advertiser categorises their ad as bei...   \n",
       "2  100K-500K people          LIVE Q&A with Sinn Féin's Leadership Team   \n",
       "3  100K-500K people  LIVE Online Public Meeting - Leadership and Mi...   \n",
       "4  100K-500K people                  Sponsored • Paid for by Sinn Féin   \n",
       "\n",
       "               Party  ... MaxAmount AvgAmount  AvgImpressions  \\\n",
       "0  Sinn Féin Ireland  ...       199     149.5           30000   \n",
       "1  Sinn Féin Ireland  ...       299     249.5          300000   \n",
       "2  Sinn Féin Ireland  ...       399     349.5          300000   \n",
       "3  Sinn Féin Ireland  ...       299     249.5          300000   \n",
       "4  Sinn Féin Ireland  ...       100     100.0          300000   \n",
       "\n",
       "   No of Ad Versions  AggregatedImpressions  AggregatedAmount  \\\n",
       "0                  2               105000.0             100.0   \n",
       "1                  4              1200000.0             349.5   \n",
       "2                  2               600000.0             249.5   \n",
       "3                  1                    0.0               0.0   \n",
       "4                  1                    0.0               0.0   \n",
       "\n",
       "   Total Impressions  Total Amount  OpinionPollDate       Votes  \n",
       "0             135000         249.5       2020-02-08  535022.425  \n",
       "1            1500000         599.0       2020-02-08  535022.425  \n",
       "2             900000         599.0       2020-02-08  535022.425  \n",
       "3             300000         249.5       2020-02-08  535022.425  \n",
       "4             300000         100.0       2020-02-08  535022.425  \n",
       "\n",
       "[5 rows x 26 columns]"
      ]
     },
     "execution_count": 111,
     "metadata": {},
     "output_type": "execute_result"
    }
   ],
   "source": [
    "data_SF = pd.read_excel('D:/NUIG/Final Project/FinalData/SinnFein_Final.xlsx')\n",
    "\n",
    "data_SF.head(5)"
   ]
  },
  {
   "cell_type": "code",
   "execution_count": 112,
   "metadata": {},
   "outputs": [
    {
     "data": {
      "text/html": [
       "<div>\n",
       "<style scoped>\n",
       "    .dataframe tbody tr th:only-of-type {\n",
       "        vertical-align: middle;\n",
       "    }\n",
       "\n",
       "    .dataframe tbody tr th {\n",
       "        vertical-align: top;\n",
       "    }\n",
       "\n",
       "    .dataframe thead th {\n",
       "        text-align: right;\n",
       "    }\n",
       "</style>\n",
       "<table border=\"1\" class=\"dataframe\">\n",
       "  <thead>\n",
       "    <tr style=\"text-align: right;\">\n",
       "      <th></th>\n",
       "      <th>Problem Influence Percentage</th>\n",
       "      <th>AvgAmount</th>\n",
       "      <th>AvgImpressions</th>\n",
       "      <th>Duration in Days</th>\n",
       "      <th>Votes</th>\n",
       "    </tr>\n",
       "  </thead>\n",
       "  <tbody>\n",
       "    <tr>\n",
       "      <th>0</th>\n",
       "      <td>13.5</td>\n",
       "      <td>149.5</td>\n",
       "      <td>30000</td>\n",
       "      <td>2</td>\n",
       "      <td>535022.425</td>\n",
       "    </tr>\n",
       "    <tr>\n",
       "      <th>1</th>\n",
       "      <td>100.0</td>\n",
       "      <td>249.5</td>\n",
       "      <td>300000</td>\n",
       "      <td>2</td>\n",
       "      <td>535022.425</td>\n",
       "    </tr>\n",
       "    <tr>\n",
       "      <th>2</th>\n",
       "      <td>90.0</td>\n",
       "      <td>349.5</td>\n",
       "      <td>300000</td>\n",
       "      <td>3</td>\n",
       "      <td>535022.425</td>\n",
       "    </tr>\n",
       "    <tr>\n",
       "      <th>3</th>\n",
       "      <td>30.0</td>\n",
       "      <td>249.5</td>\n",
       "      <td>300000</td>\n",
       "      <td>2</td>\n",
       "      <td>535022.425</td>\n",
       "    </tr>\n",
       "    <tr>\n",
       "      <th>4</th>\n",
       "      <td>30.0</td>\n",
       "      <td>100.0</td>\n",
       "      <td>300000</td>\n",
       "      <td>1</td>\n",
       "      <td>535022.425</td>\n",
       "    </tr>\n",
       "  </tbody>\n",
       "</table>\n",
       "</div>"
      ],
      "text/plain": [
       "   Problem Influence Percentage  AvgAmount  AvgImpressions  Duration in Days  \\\n",
       "0                          13.5      149.5           30000                 2   \n",
       "1                         100.0      249.5          300000                 2   \n",
       "2                          90.0      349.5          300000                 3   \n",
       "3                          30.0      249.5          300000                 2   \n",
       "4                          30.0      100.0          300000                 1   \n",
       "\n",
       "        Votes  \n",
       "0  535022.425  \n",
       "1  535022.425  \n",
       "2  535022.425  \n",
       "3  535022.425  \n",
       "4  535022.425  "
      ]
     },
     "execution_count": 112,
     "metadata": {},
     "output_type": "execute_result"
    }
   ],
   "source": [
    "sub_SF = data_SF[['Problem Influence Percentage', 'AvgAmount', 'AvgImpressions', 'Duration in Days','Votes']]\n",
    "\n",
    "sub_SF.head(5)"
   ]
  },
  {
   "cell_type": "code",
   "execution_count": 113,
   "metadata": {},
   "outputs": [
    {
     "data": {
      "text/html": [
       "<div>\n",
       "<style scoped>\n",
       "    .dataframe tbody tr th:only-of-type {\n",
       "        vertical-align: middle;\n",
       "    }\n",
       "\n",
       "    .dataframe tbody tr th {\n",
       "        vertical-align: top;\n",
       "    }\n",
       "\n",
       "    .dataframe thead th {\n",
       "        text-align: right;\n",
       "    }\n",
       "</style>\n",
       "<table border=\"1\" class=\"dataframe\">\n",
       "  <thead>\n",
       "    <tr style=\"text-align: right;\">\n",
       "      <th></th>\n",
       "      <th>Votes</th>\n",
       "    </tr>\n",
       "  </thead>\n",
       "  <tbody>\n",
       "    <tr>\n",
       "      <th>0</th>\n",
       "      <td>535022.425</td>\n",
       "    </tr>\n",
       "    <tr>\n",
       "      <th>1</th>\n",
       "      <td>535022.425</td>\n",
       "    </tr>\n",
       "    <tr>\n",
       "      <th>2</th>\n",
       "      <td>535022.425</td>\n",
       "    </tr>\n",
       "    <tr>\n",
       "      <th>3</th>\n",
       "      <td>535022.425</td>\n",
       "    </tr>\n",
       "    <tr>\n",
       "      <th>4</th>\n",
       "      <td>535022.425</td>\n",
       "    </tr>\n",
       "  </tbody>\n",
       "</table>\n",
       "</div>"
      ],
      "text/plain": [
       "        Votes\n",
       "0  535022.425\n",
       "1  535022.425\n",
       "2  535022.425\n",
       "3  535022.425\n",
       "4  535022.425"
      ]
     },
     "execution_count": 113,
     "metadata": {},
     "output_type": "execute_result"
    }
   ],
   "source": [
    "iv_sf = sub_SF.iloc[:, 0:4]\n",
    "iv_sf.head(5)\n",
    "\n",
    "dv_sf= sub_SF.iloc[:, -1:]\n",
    "dv_sf.head(5)"
   ]
  },
  {
   "cell_type": "code",
   "execution_count": 114,
   "metadata": {},
   "outputs": [],
   "source": [
    "X_train, X_test, y_train, y_test = train_test_split(iv_sf, dv_sf)"
   ]
  },
  {
   "cell_type": "code",
   "execution_count": 115,
   "metadata": {},
   "outputs": [],
   "source": [
    "def train_GB(est, max_depth, lr):\n",
    "    \n",
    "    gb = GradientBoostingRegressor(n_estimators=est, max_depth=max_depth, learning_rate=lr)\n",
    "    gb_model = gb.fit(X_train, y_train)\n",
    "    y_pred = gb_model.predict(X_test)\n",
    "    Acc = (gb.score(X_train, y_train))\n",
    "    return (round(Acc,2)*100), est , max_depth , lr\n",
    "   "
   ]
  },
  {
   "cell_type": "code",
   "execution_count": 116,
   "metadata": {},
   "outputs": [
    {
     "name": "stderr",
     "output_type": "stream",
     "text": [
      "D:\\Anaconda_Install\\lib\\site-packages\\sklearn\\ensemble\\_gb.py:1454: DataConversionWarning: A column-vector y was passed when a 1d array was expected. Please change the shape of y to (n_samples, ), for example using ravel().\n",
      "  y = column_or_1d(y, warn=True)\n",
      "D:\\Anaconda_Install\\lib\\site-packages\\sklearn\\ensemble\\_gb.py:1454: DataConversionWarning: A column-vector y was passed when a 1d array was expected. Please change the shape of y to (n_samples, ), for example using ravel().\n",
      "  y = column_or_1d(y, warn=True)\n",
      "D:\\Anaconda_Install\\lib\\site-packages\\sklearn\\ensemble\\_gb.py:1454: DataConversionWarning: A column-vector y was passed when a 1d array was expected. Please change the shape of y to (n_samples, ), for example using ravel().\n",
      "  y = column_or_1d(y, warn=True)\n",
      "D:\\Anaconda_Install\\lib\\site-packages\\sklearn\\ensemble\\_gb.py:1454: DataConversionWarning: A column-vector y was passed when a 1d array was expected. Please change the shape of y to (n_samples, ), for example using ravel().\n",
      "  y = column_or_1d(y, warn=True)\n"
     ]
    },
    {
     "name": "stdout",
     "output_type": "stream",
     "text": [
      "(40.0, 50, 3, 0.01)\n",
      "(88.0, 50, 3, 0.1)\n",
      "(100.0, 50, 3, 1)\n",
      "(57.99999999999999, 50, 7, 0.01)\n"
     ]
    },
    {
     "name": "stderr",
     "output_type": "stream",
     "text": [
      "D:\\Anaconda_Install\\lib\\site-packages\\sklearn\\ensemble\\_gb.py:1454: DataConversionWarning: A column-vector y was passed when a 1d array was expected. Please change the shape of y to (n_samples, ), for example using ravel().\n",
      "  y = column_or_1d(y, warn=True)\n",
      "D:\\Anaconda_Install\\lib\\site-packages\\sklearn\\ensemble\\_gb.py:1454: DataConversionWarning: A column-vector y was passed when a 1d array was expected. Please change the shape of y to (n_samples, ), for example using ravel().\n",
      "  y = column_or_1d(y, warn=True)\n",
      "D:\\Anaconda_Install\\lib\\site-packages\\sklearn\\ensemble\\_gb.py:1454: DataConversionWarning: A column-vector y was passed when a 1d array was expected. Please change the shape of y to (n_samples, ), for example using ravel().\n",
      "  y = column_or_1d(y, warn=True)\n",
      "D:\\Anaconda_Install\\lib\\site-packages\\sklearn\\ensemble\\_gb.py:1454: DataConversionWarning: A column-vector y was passed when a 1d array was expected. Please change the shape of y to (n_samples, ), for example using ravel().\n",
      "  y = column_or_1d(y, warn=True)\n",
      "D:\\Anaconda_Install\\lib\\site-packages\\sklearn\\ensemble\\_gb.py:1454: DataConversionWarning: A column-vector y was passed when a 1d array was expected. Please change the shape of y to (n_samples, ), for example using ravel().\n",
      "  y = column_or_1d(y, warn=True)\n"
     ]
    },
    {
     "name": "stdout",
     "output_type": "stream",
     "text": [
      "(100.0, 50, 7, 0.1)\n",
      "(100.0, 50, 7, 1)\n",
      "(63.0, 50, 11, 0.01)\n",
      "(100.0, 50, 11, 0.1)\n",
      "(100.0, 50, 11, 1)\n"
     ]
    },
    {
     "name": "stderr",
     "output_type": "stream",
     "text": [
      "D:\\Anaconda_Install\\lib\\site-packages\\sklearn\\ensemble\\_gb.py:1454: DataConversionWarning: A column-vector y was passed when a 1d array was expected. Please change the shape of y to (n_samples, ), for example using ravel().\n",
      "  y = column_or_1d(y, warn=True)\n",
      "D:\\Anaconda_Install\\lib\\site-packages\\sklearn\\ensemble\\_gb.py:1454: DataConversionWarning: A column-vector y was passed when a 1d array was expected. Please change the shape of y to (n_samples, ), for example using ravel().\n",
      "  y = column_or_1d(y, warn=True)\n",
      "D:\\Anaconda_Install\\lib\\site-packages\\sklearn\\ensemble\\_gb.py:1454: DataConversionWarning: A column-vector y was passed when a 1d array was expected. Please change the shape of y to (n_samples, ), for example using ravel().\n",
      "  y = column_or_1d(y, warn=True)\n",
      "D:\\Anaconda_Install\\lib\\site-packages\\sklearn\\ensemble\\_gb.py:1454: DataConversionWarning: A column-vector y was passed when a 1d array was expected. Please change the shape of y to (n_samples, ), for example using ravel().\n",
      "  y = column_or_1d(y, warn=True)\n"
     ]
    },
    {
     "name": "stdout",
     "output_type": "stream",
     "text": [
      "(63.0, 50, 15, 0.01)\n",
      "(100.0, 50, 15, 0.1)\n",
      "(100.0, 50, 15, 1)\n",
      "(56.00000000000001, 100, 3, 0.01)\n"
     ]
    },
    {
     "name": "stderr",
     "output_type": "stream",
     "text": [
      "D:\\Anaconda_Install\\lib\\site-packages\\sklearn\\ensemble\\_gb.py:1454: DataConversionWarning: A column-vector y was passed when a 1d array was expected. Please change the shape of y to (n_samples, ), for example using ravel().\n",
      "  y = column_or_1d(y, warn=True)\n",
      "D:\\Anaconda_Install\\lib\\site-packages\\sklearn\\ensemble\\_gb.py:1454: DataConversionWarning: A column-vector y was passed when a 1d array was expected. Please change the shape of y to (n_samples, ), for example using ravel().\n",
      "  y = column_or_1d(y, warn=True)\n",
      "D:\\Anaconda_Install\\lib\\site-packages\\sklearn\\ensemble\\_gb.py:1454: DataConversionWarning: A column-vector y was passed when a 1d array was expected. Please change the shape of y to (n_samples, ), for example using ravel().\n",
      "  y = column_or_1d(y, warn=True)\n"
     ]
    },
    {
     "name": "stdout",
     "output_type": "stream",
     "text": [
      "(95.0, 100, 3, 0.1)\n",
      "(100.0, 100, 3, 1)\n",
      "(82.0, 100, 7, 0.01)\n"
     ]
    },
    {
     "name": "stderr",
     "output_type": "stream",
     "text": [
      "D:\\Anaconda_Install\\lib\\site-packages\\sklearn\\ensemble\\_gb.py:1454: DataConversionWarning: A column-vector y was passed when a 1d array was expected. Please change the shape of y to (n_samples, ), for example using ravel().\n",
      "  y = column_or_1d(y, warn=True)\n",
      "D:\\Anaconda_Install\\lib\\site-packages\\sklearn\\ensemble\\_gb.py:1454: DataConversionWarning: A column-vector y was passed when a 1d array was expected. Please change the shape of y to (n_samples, ), for example using ravel().\n",
      "  y = column_or_1d(y, warn=True)\n",
      "D:\\Anaconda_Install\\lib\\site-packages\\sklearn\\ensemble\\_gb.py:1454: DataConversionWarning: A column-vector y was passed when a 1d array was expected. Please change the shape of y to (n_samples, ), for example using ravel().\n",
      "  y = column_or_1d(y, warn=True)\n"
     ]
    },
    {
     "name": "stdout",
     "output_type": "stream",
     "text": [
      "(100.0, 100, 7, 0.1)\n",
      "(100.0, 100, 7, 1)\n",
      "(86.0, 100, 11, 0.01)\n"
     ]
    },
    {
     "name": "stderr",
     "output_type": "stream",
     "text": [
      "D:\\Anaconda_Install\\lib\\site-packages\\sklearn\\ensemble\\_gb.py:1454: DataConversionWarning: A column-vector y was passed when a 1d array was expected. Please change the shape of y to (n_samples, ), for example using ravel().\n",
      "  y = column_or_1d(y, warn=True)\n",
      "D:\\Anaconda_Install\\lib\\site-packages\\sklearn\\ensemble\\_gb.py:1454: DataConversionWarning: A column-vector y was passed when a 1d array was expected. Please change the shape of y to (n_samples, ), for example using ravel().\n",
      "  y = column_or_1d(y, warn=True)\n",
      "D:\\Anaconda_Install\\lib\\site-packages\\sklearn\\ensemble\\_gb.py:1454: DataConversionWarning: A column-vector y was passed when a 1d array was expected. Please change the shape of y to (n_samples, ), for example using ravel().\n",
      "  y = column_or_1d(y, warn=True)\n"
     ]
    },
    {
     "name": "stdout",
     "output_type": "stream",
     "text": [
      "(100.0, 100, 11, 0.1)\n",
      "(100.0, 100, 11, 1)\n",
      "(86.0, 100, 15, 0.01)\n"
     ]
    },
    {
     "name": "stderr",
     "output_type": "stream",
     "text": [
      "D:\\Anaconda_Install\\lib\\site-packages\\sklearn\\ensemble\\_gb.py:1454: DataConversionWarning: A column-vector y was passed when a 1d array was expected. Please change the shape of y to (n_samples, ), for example using ravel().\n",
      "  y = column_or_1d(y, warn=True)\n",
      "D:\\Anaconda_Install\\lib\\site-packages\\sklearn\\ensemble\\_gb.py:1454: DataConversionWarning: A column-vector y was passed when a 1d array was expected. Please change the shape of y to (n_samples, ), for example using ravel().\n",
      "  y = column_or_1d(y, warn=True)\n",
      "D:\\Anaconda_Install\\lib\\site-packages\\sklearn\\ensemble\\_gb.py:1454: DataConversionWarning: A column-vector y was passed when a 1d array was expected. Please change the shape of y to (n_samples, ), for example using ravel().\n",
      "  y = column_or_1d(y, warn=True)\n"
     ]
    },
    {
     "name": "stdout",
     "output_type": "stream",
     "text": [
      "(100.0, 100, 15, 0.1)\n",
      "(100.0, 100, 15, 1)\n",
      "(65.0, 150, 3, 0.01)\n"
     ]
    },
    {
     "name": "stderr",
     "output_type": "stream",
     "text": [
      "D:\\Anaconda_Install\\lib\\site-packages\\sklearn\\ensemble\\_gb.py:1454: DataConversionWarning: A column-vector y was passed when a 1d array was expected. Please change the shape of y to (n_samples, ), for example using ravel().\n",
      "  y = column_or_1d(y, warn=True)\n",
      "D:\\Anaconda_Install\\lib\\site-packages\\sklearn\\ensemble\\_gb.py:1454: DataConversionWarning: A column-vector y was passed when a 1d array was expected. Please change the shape of y to (n_samples, ), for example using ravel().\n",
      "  y = column_or_1d(y, warn=True)\n"
     ]
    },
    {
     "name": "stdout",
     "output_type": "stream",
     "text": [
      "(98.0, 150, 3, 0.1)\n",
      "(100.0, 150, 3, 1)\n"
     ]
    },
    {
     "name": "stderr",
     "output_type": "stream",
     "text": [
      "D:\\Anaconda_Install\\lib\\site-packages\\sklearn\\ensemble\\_gb.py:1454: DataConversionWarning: A column-vector y was passed when a 1d array was expected. Please change the shape of y to (n_samples, ), for example using ravel().\n",
      "  y = column_or_1d(y, warn=True)\n",
      "D:\\Anaconda_Install\\lib\\site-packages\\sklearn\\ensemble\\_gb.py:1454: DataConversionWarning: A column-vector y was passed when a 1d array was expected. Please change the shape of y to (n_samples, ), for example using ravel().\n",
      "  y = column_or_1d(y, warn=True)\n"
     ]
    },
    {
     "name": "stdout",
     "output_type": "stream",
     "text": [
      "(91.0, 150, 7, 0.01)\n",
      "(100.0, 150, 7, 0.1)\n"
     ]
    },
    {
     "name": "stderr",
     "output_type": "stream",
     "text": [
      "D:\\Anaconda_Install\\lib\\site-packages\\sklearn\\ensemble\\_gb.py:1454: DataConversionWarning: A column-vector y was passed when a 1d array was expected. Please change the shape of y to (n_samples, ), for example using ravel().\n",
      "  y = column_or_1d(y, warn=True)\n",
      "D:\\Anaconda_Install\\lib\\site-packages\\sklearn\\ensemble\\_gb.py:1454: DataConversionWarning: A column-vector y was passed when a 1d array was expected. Please change the shape of y to (n_samples, ), for example using ravel().\n",
      "  y = column_or_1d(y, warn=True)\n"
     ]
    },
    {
     "name": "stdout",
     "output_type": "stream",
     "text": [
      "(100.0, 150, 7, 1)\n",
      "(95.0, 150, 11, 0.01)\n"
     ]
    },
    {
     "name": "stderr",
     "output_type": "stream",
     "text": [
      "D:\\Anaconda_Install\\lib\\site-packages\\sklearn\\ensemble\\_gb.py:1454: DataConversionWarning: A column-vector y was passed when a 1d array was expected. Please change the shape of y to (n_samples, ), for example using ravel().\n",
      "  y = column_or_1d(y, warn=True)\n",
      "D:\\Anaconda_Install\\lib\\site-packages\\sklearn\\ensemble\\_gb.py:1454: DataConversionWarning: A column-vector y was passed when a 1d array was expected. Please change the shape of y to (n_samples, ), for example using ravel().\n",
      "  y = column_or_1d(y, warn=True)\n"
     ]
    },
    {
     "name": "stdout",
     "output_type": "stream",
     "text": [
      "(100.0, 150, 11, 0.1)\n",
      "(100.0, 150, 11, 1)\n"
     ]
    },
    {
     "name": "stderr",
     "output_type": "stream",
     "text": [
      "D:\\Anaconda_Install\\lib\\site-packages\\sklearn\\ensemble\\_gb.py:1454: DataConversionWarning: A column-vector y was passed when a 1d array was expected. Please change the shape of y to (n_samples, ), for example using ravel().\n",
      "  y = column_or_1d(y, warn=True)\n",
      "D:\\Anaconda_Install\\lib\\site-packages\\sklearn\\ensemble\\_gb.py:1454: DataConversionWarning: A column-vector y was passed when a 1d array was expected. Please change the shape of y to (n_samples, ), for example using ravel().\n",
      "  y = column_or_1d(y, warn=True)\n"
     ]
    },
    {
     "name": "stdout",
     "output_type": "stream",
     "text": [
      "(95.0, 150, 15, 0.01)\n",
      "(100.0, 150, 15, 0.1)\n",
      "(100.0, 150, 15, 1)\n"
     ]
    },
    {
     "name": "stderr",
     "output_type": "stream",
     "text": [
      "D:\\Anaconda_Install\\lib\\site-packages\\sklearn\\ensemble\\_gb.py:1454: DataConversionWarning: A column-vector y was passed when a 1d array was expected. Please change the shape of y to (n_samples, ), for example using ravel().\n",
      "  y = column_or_1d(y, warn=True)\n"
     ]
    }
   ],
   "source": [
    "for n_est in [50, 100, 150]:\n",
    "    for max_depth in [3, 7, 11, 15]:\n",
    "        for lr in [0.01, 0.1, 1]:\n",
    "            print(train_GB(n_est, max_depth, lr))"
   ]
  },
  {
   "cell_type": "code",
   "execution_count": 117,
   "metadata": {},
   "outputs": [],
   "source": [
    "regressor = GradientBoostingRegressor(\n",
    "    max_depth=150,\n",
    "    n_estimators=3,\n",
    "    learning_rate=1.0\n",
    ")"
   ]
  },
  {
   "cell_type": "code",
   "execution_count": 118,
   "metadata": {},
   "outputs": [
    {
     "name": "stderr",
     "output_type": "stream",
     "text": [
      "D:\\Anaconda_Install\\lib\\site-packages\\sklearn\\ensemble\\_gb.py:1454: DataConversionWarning: A column-vector y was passed when a 1d array was expected. Please change the shape of y to (n_samples, ), for example using ravel().\n",
      "  y = column_or_1d(y, warn=True)\n"
     ]
    },
    {
     "data": {
      "text/plain": [
       "GradientBoostingRegressor(alpha=0.9, ccp_alpha=0.0, criterion='friedman_mse',\n",
       "                          init=None, learning_rate=1.0, loss='ls',\n",
       "                          max_depth=150, max_features=None, max_leaf_nodes=None,\n",
       "                          min_impurity_decrease=0.0, min_impurity_split=None,\n",
       "                          min_samples_leaf=1, min_samples_split=2,\n",
       "                          min_weight_fraction_leaf=0.0, n_estimators=3,\n",
       "                          n_iter_no_change=None, presort='deprecated',\n",
       "                          random_state=None, subsample=1.0, tol=0.0001,\n",
       "                          validation_fraction=0.1, verbose=0, warm_start=False)"
      ]
     },
     "execution_count": 118,
     "metadata": {},
     "output_type": "execute_result"
    }
   ],
   "source": [
    "regressor.fit(X_train, y_train)"
   ]
  },
  {
   "cell_type": "code",
   "execution_count": 119,
   "metadata": {},
   "outputs": [
    {
     "name": "stdout",
     "output_type": "stream",
     "text": [
      "Mean Absolute Error:62479.94\n",
      "Mean Squared Error:11736619454.58\n"
     ]
    }
   ],
   "source": [
    "y_pred = regressor.predict(X_test)\n",
    "\n",
    "MAE_calc = mean_absolute_error(y_test, y_pred)\n",
    "\n",
    "MAE = round(MAE_calc,2)\n",
    "\n",
    "print('Mean Absolute Error:'+ str(MAE))\n",
    "\n",
    "\n",
    "MSE_calc = mean_squared_error(y_test, y_pred)\n",
    "MSE = round(MSE_calc,2)\n",
    "\n",
    "print('Mean Squared Error:' + str(MSE))\n"
   ]
  },
  {
   "cell_type": "code",
   "execution_count": 120,
   "metadata": {},
   "outputs": [
    {
     "name": "stdout",
     "output_type": "stream",
     "text": [
      "Accuracy:100.0\n"
     ]
    }
   ],
   "source": [
    "Accuracy_calc = regressor.score(X_train, y_train)\n",
    "Accuracy = round(Accuracy_calc, 2)*100\n",
    "\n",
    "print('Accuracy:' + str(Accuracy))"
   ]
  }
 ],
 "metadata": {
  "kernelspec": {
   "display_name": "Python 3",
   "language": "python",
   "name": "python3"
  },
  "language_info": {
   "codemirror_mode": {
    "name": "ipython",
    "version": 3
   },
   "file_extension": ".py",
   "mimetype": "text/x-python",
   "name": "python",
   "nbconvert_exporter": "python",
   "pygments_lexer": "ipython3",
   "version": "3.7.6"
  }
 },
 "nbformat": 4,
 "nbformat_minor": 4
}
